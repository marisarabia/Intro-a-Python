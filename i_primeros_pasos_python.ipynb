{
 "cells": [
  {
   "cell_type": "markdown",
   "metadata": {
    "colab_type": "text",
    "id": "9Z-CskgdjIef"
   },
   "source": [
    "# Primeros pasos en Python\n",
    "\n",
    "## Objetivos\n",
    "1. Presentar el entorno de trabajo: Jupyter Notebooks, en este caso, en Colaboratory.\n",
    "2. Mediante la introducción de algunos elementos nativos de Python, brindar ejemplos de programación orientada a objetos, con clases pre-definidas y, conforme sus propiedades específicos, denotan métodos característicos.\n",
    "3. Introducir la lógica de los iteradores y mecanismos de excepción.\n",
    "\n",
    "## Secciones\n",
    "Elementos y métodos asociados \n",
    " * Listas **[** 0, 1, ... i, ... n **]**\n",
    " * Tuplas **(** 0, 1, ... i, ... n **)**\n",
    " * Diccionarios **{** key : value, ..... letras : [ a, b, ... z ] **}**\n",
    " \n",
    " [Aquí](http://sthurlow.com/python/lesson06/) podés leer más sobre estos elementos.\n",
    "\n",
    "Temas transversales\n",
    "* Indexación\n",
    "* Funciones* built-in*\n",
    "* Iteradores (loops y listas por comprensión)\n",
    "* Excepciones (condiciones validadas con booleanos)\n",
    " "
   ]
  },
  {
   "cell_type": "markdown",
   "metadata": {
    "colab_type": "text",
    "id": "aKm3jbg96ft5"
   },
   "source": [
    " ## Comencemos!\n",
    " Con *Shift* + *Enter* podés ejecutar cada línea o bloque de código.\n",
    " \n",
    " Con *Ctrl* + *M* + *M* podés transformar una celda de código en *markdown*. Para revertir esa transormación, usamos *Ctrl* + *M* + *Y*.\n",
    "  \n",
    "Podés buscar lista completa de `keyboard shutcuts` en las Jupyter."
   ]
  },
  {
   "cell_type": "code",
   "execution_count": 1,
   "metadata": {
    "colab": {},
    "colab_type": "code",
    "id": "UoLtK-3p6qtq"
   },
   "outputs": [
    {
     "data": {
      "text/plain": [
       "5"
      ]
     },
     "execution_count": 1,
     "metadata": {},
     "output_type": "execute_result"
    }
   ],
   "source": [
    "5"
   ]
  },
  {
   "cell_type": "code",
   "execution_count": 2,
   "metadata": {
    "colab": {},
    "colab_type": "code",
    "id": "mps4Mlr3rVSW"
   },
   "outputs": [
    {
     "data": {
      "text/plain": [
       "15"
      ]
     },
     "execution_count": 2,
     "metadata": {},
     "output_type": "execute_result"
    }
   ],
   "source": [
    "5 * 3"
   ]
  },
  {
   "cell_type": "markdown",
   "metadata": {
    "colab_type": "text",
    "id": "_e1mH_oK6xcT"
   },
   "source": [
    "* ¿Esos datos/cálculos quedan guardados? ¿Dónde? ¿Cómo los recuperamos?\n",
    "* ¿ Escuchaste hablar de generar una *instancia* o, alternativamente, de *instanciar* una variable, un elemento, etc.? ¿A qué se refiere ese término?\n"
   ]
  },
  {
   "cell_type": "code",
   "execution_count": 3,
   "metadata": {
    "colab": {},
    "colab_type": "code",
    "id": "xoAvjeij7DpN"
   },
   "outputs": [
    {
     "name": "stdout",
     "output_type": "stream",
     "text": [
      "15\n"
     ]
    },
    {
     "data": {
      "text/plain": [
       "9"
      ]
     },
     "execution_count": 3,
     "metadata": {},
     "output_type": "execute_result"
    }
   ],
   "source": [
    "# necesitamos crear una instancia para el resultado de 5 * 3\n",
    "# cómo harías?\n",
    "var = 5 * 3\n",
    "print(var) # encapsulamos 'var' en un 'print()'' para ver el resultado de la operación \n",
    "5 + 4 # recordá que sólo se visibiliza la ejecución de la última línea"
   ]
  },
  {
   "cell_type": "markdown",
   "metadata": {
    "colab_type": "text",
    "id": "fQ-hnLJGjIeh"
   },
   "source": [
    "#### 1) Listas [ ]\n",
    "\n",
    "Una *lista* es una colección **ordenada y mutable** de elementos, no necesariamente del mismo tipo. El orden está dado por una **indexación implícita** que se **actualiza** ante cambio en el orden, droppeo o inserción de algún elementos, droppeo o inserción.\n",
    "\n",
    "En principio, vamos a codear con una lista que contienen elementos icónicos del **verano**.\n",
    "\n",
    "Ah! Recordá que las cadenas de texto [*string*] van entre comillas!"
   ]
  },
  {
   "cell_type": "code",
   "execution_count": 4,
   "metadata": {
    "colab": {},
    "colab_type": "code",
    "id": "B7Xpth5ojIei"
   },
   "outputs": [],
   "source": [
    "# creamos una lista\n",
    "verano = ['calor', 'sol', 'humedad', 'pileta', 'vacaciones']"
   ]
  },
  {
   "cell_type": "code",
   "execution_count": 5,
   "metadata": {
    "colab": {},
    "colab_type": "code",
    "id": "z_VeJhQejIen"
   },
   "outputs": [
    {
     "data": {
      "text/plain": [
       "5"
      ]
     },
     "execution_count": 5,
     "metadata": {},
     "output_type": "execute_result"
    }
   ],
   "source": [
    "# averiguamos la extensión de la lista\n",
    "len(verano)"
   ]
  },
  {
   "cell_type": "code",
   "execution_count": 6,
   "metadata": {
    "colab": {},
    "colab_type": "code",
    "id": "TMTUMPyySV_9"
   },
   "outputs": [
    {
     "data": {
      "text/plain": [
       "3"
      ]
     },
     "execution_count": 6,
     "metadata": {},
     "output_type": "execute_result"
    }
   ],
   "source": [
    "# también podemos ver la extensión de cada elemento de la lista, por ej.\n",
    "len('sol')"
   ]
  },
  {
   "cell_type": "code",
   "execution_count": 7,
   "metadata": {
    "colab": {},
    "colab_type": "code",
    "id": "SB05OzaajIew"
   },
   "outputs": [
    {
     "name": "stdout",
     "output_type": "stream",
     "text": [
      "calor :  5 letras\n",
      "sol :  3 letras\n",
      "humedad :  7 letras\n",
      "pileta :  6 letras\n",
      "vacaciones :  10 letras\n"
     ]
    }
   ],
   "source": [
    "# ahora vemos la extensión de cada elemento implementando una iteración, denominada bucle o loop\n",
    "for i in verano:\n",
    "    print(i,': ', len(i), 'letras')\n",
    "    "
   ]
  },
  {
   "cell_type": "markdown",
   "metadata": {
    "colab_type": "text",
    "id": "cYHM_0bdjIe0"
   },
   "source": [
    "Veamos los resultados:\n",
    " * ¿cuántos elementos hay en *verano*? ¿coinciden con los ingresados en la primera línea de código?\n",
    " * ¿todos los elementos están correctamente indexados? ¿hay algo por corregir?"
   ]
  },
  {
   "cell_type": "code",
   "execution_count": 8,
   "metadata": {
    "colab": {},
    "colab_type": "code",
    "id": "UDyRpYwKTSnK"
   },
   "outputs": [
    {
     "data": {
      "text/plain": [
       "'vacaciones'"
      ]
     },
     "execution_count": 8,
     "metadata": {},
     "output_type": "execute_result"
    }
   ],
   "source": [
    "# Python cuenta con una serie de ÍNDICES implícitos que podemos invocar\n",
    "verano[-1]"
   ]
  },
  {
   "cell_type": "code",
   "execution_count": 9,
   "metadata": {
    "colab": {},
    "colab_type": "code",
    "id": "XnU_942zWOjj"
   },
   "outputs": [
    {
     "data": {
      "text/plain": [
       "'sol'"
      ]
     },
     "execution_count": 9,
     "metadata": {},
     "output_type": "execute_result"
    }
   ],
   "source": [
    "# invoca el segundo elemento de la lista\n",
    "verano[1] # recordá que el conteo arranca en 0!"
   ]
  },
  {
   "cell_type": "code",
   "execution_count": 10,
   "metadata": {
    "colab": {},
    "colab_type": "code",
    "id": "GU4u5cxYt6Yr"
   },
   "outputs": [
    {
     "data": {
      "text/plain": [
       "['humedad', 'pileta']"
      ]
     },
     "execution_count": 10,
     "metadata": {},
     "output_type": "execute_result"
    }
   ],
   "source": [
    "# cuando trabajamos con índices implícitos,\n",
    "# los intervalos son semiabiertos a derecha\n",
    "verano[2:4]"
   ]
  },
  {
   "cell_type": "code",
   "execution_count": 11,
   "metadata": {
    "colab": {},
    "colab_type": "code",
    "id": "-DqrsDD5cjxR"
   },
   "outputs": [
    {
     "data": {
      "text/plain": [
       "['calor', 'humedad', 'vacaciones']"
      ]
     },
     "execution_count": 11,
     "metadata": {},
     "output_type": "execute_result"
    }
   ],
   "source": [
    "# también podemos especificar si queremos saltearnos algunos elementos\n",
    "# [start:stop:step]\n",
    "verano[::2]"
   ]
  },
  {
   "cell_type": "code",
   "execution_count": 12,
   "metadata": {
    "colab": {},
    "colab_type": "code",
    "id": "TAjzTBi2jIe2"
   },
   "outputs": [
    {
     "data": {
      "text/plain": [
       "<enumerate at 0x1bfe0a12948>"
      ]
     },
     "execution_count": 12,
     "metadata": {},
     "output_type": "execute_result"
    }
   ],
   "source": [
    "# usamos un iterador para ENUMERAR [visiblemente] los elementos de la lista\n",
    "enumerate(verano)"
   ]
  },
  {
   "cell_type": "code",
   "execution_count": 13,
   "metadata": {
    "colab": {},
    "colab_type": "code",
    "id": "yNSmj5GgurZl"
   },
   "outputs": [
    {
     "data": {
      "text/plain": [
       "[(0, 'calor'), (1, 'sol'), (2, 'humedad'), (3, 'pileta'), (4, 'vacaciones')]"
      ]
     },
     "execution_count": 13,
     "metadata": {},
     "output_type": "execute_result"
    }
   ],
   "source": [
    "# sin embargo, a simple vista vemos un objeto 'enumerate', no su contenido\n",
    "# para visualizarlo conviene que encapsulemos al iterador en una lista\n",
    "list(enumerate(verano))"
   ]
  },
  {
   "cell_type": "markdown",
   "metadata": {
    "colab_type": "text",
    "id": "XQFKfxTfjIe9"
   },
   "source": [
    "* ¿En qué número comienza la indexación de Python?\n",
    "\n",
    "* ¿Agregarías algún otro elemento representativo del verano?"
   ]
  },
  {
   "cell_type": "code",
   "execution_count": 14,
   "metadata": {
    "colab": {},
    "colab_type": "code",
    "id": "NRQC_drXjIe-"
   },
   "outputs": [
    {
     "data": {
      "text/plain": [
       "['calor', 'sol', 'humedad', 'pileta', 'vacaciones', 'playa']"
      ]
     },
     "execution_count": 14,
     "metadata": {},
     "output_type": "execute_result"
    }
   ],
   "source": [
    "# añadimos playa\n",
    "verano.append('playa')\n",
    "verano"
   ]
  },
  {
   "cell_type": "code",
   "execution_count": 15,
   "metadata": {
    "colab": {},
    "colab_type": "code",
    "id": "CyrmDfctjIfG"
   },
   "outputs": [
    {
     "data": {
      "text/plain": [
       "['mar', 'sol', 'humedad', 'pileta', 'vacaciones', 'playa']"
      ]
     },
     "execution_count": 15,
     "metadata": {},
     "output_type": "execute_result"
    }
   ],
   "source": [
    "verano[0] = 'mar' # qué sucedió en la lista?\n",
    "verano"
   ]
  },
  {
   "cell_type": "code",
   "execution_count": 16,
   "metadata": {
    "colab": {},
    "colab_type": "code",
    "id": "CuDoWFfVjIfN"
   },
   "outputs": [
    {
     "data": {
      "text/plain": [
       "False"
      ]
     },
     "execution_count": 16,
     "metadata": {},
     "output_type": "execute_result"
    }
   ],
   "source": [
    "verano[0] == verano[3]"
   ]
  },
  {
   "cell_type": "markdown",
   "metadata": {
    "colab_type": "text",
    "id": "pKJTENvDjIfV"
   },
   "source": [
    " * ¿Qué sucedió con los comandos anteriores? ¿Qué hace .append()? ¿Qué sucede al indicar el índice?\n",
    " * ¿Qué diferencia hay entre el igual y el doble igual? ¿Cuál usarías para asignar y cuál para comparar?"
   ]
  },
  {
   "cell_type": "code",
   "execution_count": 17,
   "metadata": {
    "colab": {},
    "colab_type": "code",
    "id": "wiU6iPwljIfW"
   },
   "outputs": [
    {
     "name": "stdout",
     "output_type": "stream",
     "text": [
      "['mar', 'sol', 'humedad', 'pileta', 'vacaciones', 'playa']\n",
      "Help on built-in function pop:\n",
      "\n",
      "pop(index=-1, /) method of builtins.list instance\n",
      "    Remove and return item at index (default last).\n",
      "    \n",
      "    Raises IndexError if list is empty or index is out of range.\n",
      "\n"
     ]
    }
   ],
   "source": [
    "# podes reescribir el ítem repetido con 'calor' o 'mar'...\n",
    "# pero intentá borrarlo usando el comando .pop()\n",
    "print(verano)\n",
    "help(verano.pop) # esta es una forma para operar un método!"
   ]
  },
  {
   "cell_type": "markdown",
   "metadata": {
    "colab_type": "text",
    "id": "GJ0yiAn3jIfa"
   },
   "source": [
    " * Siguiendo la documentación, funciona el código cuando indicas el índice del ítem en .pop([index])? \n",
    "\n",
    " * Probá quitando los corchetes!"
   ]
  },
  {
   "cell_type": "code",
   "execution_count": 18,
   "metadata": {
    "colab": {},
    "colab_type": "code",
    "id": "UuiMxRY2SEaN"
   },
   "outputs": [
    {
     "data": {
      "text/plain": [
       "'playa'"
      ]
     },
     "execution_count": 18,
     "metadata": {},
     "output_type": "execute_result"
    }
   ],
   "source": [
    "verano.pop(-1)"
   ]
  },
  {
   "cell_type": "code",
   "execution_count": 19,
   "metadata": {
    "colab": {},
    "colab_type": "code",
    "id": "mkp9J8euwIH_"
   },
   "outputs": [
    {
     "data": {
      "text/plain": [
       "['mar', 'sol', 'humedad', 'pileta', 'vacaciones']"
      ]
     },
     "execution_count": 19,
     "metadata": {},
     "output_type": "execute_result"
    }
   ],
   "source": [
    "verano"
   ]
  },
  {
   "cell_type": "markdown",
   "metadata": {
    "colab_type": "text",
    "id": "xocUeTaVwgts"
   },
   "source": [
    "* .pop() imprime el ítem que indicamos, una vez que lo borra"
   ]
  },
  {
   "cell_type": "code",
   "execution_count": 20,
   "metadata": {
    "colab": {},
    "colab_type": "code",
    "id": "smiW-BXhjIfi"
   },
   "outputs": [
    {
     "name": "stdout",
     "output_type": "stream",
     "text": [
      "['mar', 'sol', 'humedad', 'pileta', 'vacaciones']\n",
      "Help on built-in function insert:\n",
      "\n",
      "insert(index, object, /) method of builtins.list instance\n",
      "    Insert object before index.\n",
      "\n"
     ]
    }
   ],
   "source": [
    "# incorporá el elemento restante de modo tal que \n",
    "# el índice de 'calor' sea [0] y el de 'mar' sea [1] \n",
    "# con el comando .insert()\n",
    "print(verano)\n",
    "help(verano.insert)"
   ]
  },
  {
   "cell_type": "markdown",
   "metadata": {
    "colab_type": "text",
    "id": "g_6QEqoXjIfm"
   },
   "source": [
    " * ¿Qué diferencia observas entre .append() e .insert()?"
   ]
  },
  {
   "cell_type": "code",
   "execution_count": 21,
   "metadata": {
    "colab": {},
    "colab_type": "code",
    "id": "CEVX92cIw0ql"
   },
   "outputs": [
    {
     "data": {
      "text/plain": [
       "['mar', 'sol', 'humedad', 'pileta', 'vacaciones']"
      ]
     },
     "execution_count": 21,
     "metadata": {},
     "output_type": "execute_result"
    }
   ],
   "source": [
    "verano"
   ]
  },
  {
   "cell_type": "code",
   "execution_count": 22,
   "metadata": {
    "colab": {},
    "colab_type": "code",
    "id": "5Z6dzc0njIfn"
   },
   "outputs": [
    {
     "data": {
      "text/plain": [
       "['calor', 'mar', 'mar', 'sol', 'humedad', 'pileta', 'vacaciones']"
      ]
     },
     "execution_count": 22,
     "metadata": {},
     "output_type": "execute_result"
    }
   ],
   "source": [
    "verano.insert(0,'calor')\n",
    "verano.insert(1,'mar')\n",
    "verano"
   ]
  },
  {
   "cell_type": "code",
   "execution_count": 23,
   "metadata": {
    "colab": {},
    "colab_type": "code",
    "id": "wYlZnrRlxBuA"
   },
   "outputs": [
    {
     "data": {
      "text/plain": [
       "'mar'"
      ]
     },
     "execution_count": 23,
     "metadata": {},
     "output_type": "execute_result"
    }
   ],
   "source": [
    "verano.pop(2)"
   ]
  },
  {
   "cell_type": "markdown",
   "metadata": {
    "colab_type": "text",
    "id": "T7SJpQAKjIfu"
   },
   "source": [
    "#### 2) Tuplas ( ) \n",
    "\n",
    "Una *tupla* es una colección **ordenada e inmutable** de elementos. Tal como la lista, sigue teniendo una indexación implícita y, por tanto, ordenada. Sin embargo, una vez creada, la tupla no tolera alteraciones, a menos que la reescribas completamente. El no admitir alteraciones, **preserva** la identidad o el contenido inicial. Asimismo es más eficiente computacionalmente hablado en términos de procesamiento.\n",
    "\n",
    "En este caso, vamos a jugar con referencias a las **cumbres más altas** de cada continente."
   ]
  },
  {
   "cell_type": "code",
   "execution_count": 24,
   "metadata": {
    "colab": {},
    "colab_type": "code",
    "id": "z6jyrrkEjIfw"
   },
   "outputs": [],
   "source": [
    "# generamos listas con un ORDEN tal que \n",
    "# los primeros elementos de c/u puedan agruparse bajo un criterio, igualmente los segundos, los terceros, etc.\n",
    "# ... de qué forma leerías esta información?\n",
    "\n",
    "continentes = ['África', 'Américas', 'Antártida', 'Asia', 'Europa', 'Oceanía']\n",
    "paises = ['Tanzania', 'Argentina', '(Chile)', 'China y Nepal', 'Francia e Italia', 'Indonesia']\n",
    "cumbres = ['Kilimanjaro', 'Aconcagua', 'Maciso Vinson', 'Everest', 'Mont Blanc', 'Nemangkawi' ]\n",
    "altura = [5893, 6962, 4892, 8848, 4810, 4884]"
   ]
  },
  {
   "cell_type": "code",
   "execution_count": 25,
   "metadata": {
    "colab": {},
    "colab_type": "code",
    "id": "SlQFEct3fqmC"
   },
   "outputs": [
    {
     "data": {
      "text/plain": [
       "<zip at 0x1bfe0a1a3c8>"
      ]
     },
     "execution_count": 25,
     "metadata": {},
     "output_type": "execute_result"
    }
   ],
   "source": [
    "# ZIP es otro iterador\n",
    "zip(continentes, cumbres, altura) "
   ]
  },
  {
   "cell_type": "code",
   "execution_count": 26,
   "metadata": {
    "colab": {},
    "colab_type": "code",
    "id": "q_Wp8BASjIf2"
   },
   "outputs": [],
   "source": [
    "# te acordás qué aplicamos para visualizar sus operatoria?\n"
   ]
  },
  {
   "cell_type": "code",
   "execution_count": 27,
   "metadata": {
    "colab": {},
    "colab_type": "code",
    "id": "Iim1xXVr05q9"
   },
   "outputs": [
    {
     "data": {
      "text/plain": [
       "[('África', 'Kilimanjaro', 5893),\n",
       " ('Américas', 'Aconcagua', 6962),\n",
       " ('Antártida', 'Maciso Vinson', 4892),\n",
       " ('Asia', 'Everest', 8848),\n",
       " ('Europa', 'Mont Blanc', 4810),\n",
       " ('Oceanía', 'Nemangkawi', 4884)]"
      ]
     },
     "execution_count": 27,
     "metadata": {},
     "output_type": "execute_result"
    }
   ],
   "source": [
    "# cómo crearías un elemento con la línea de arriba?\n",
    "SeisCumbres = list(zip(continentes, cumbres, altura))\n",
    "SeisCumbres"
   ]
  },
  {
   "cell_type": "markdown",
   "metadata": {
    "colab_type": "text",
    "id": "X2ezQW1BAcwu"
   },
   "source": [
    "* ¿Estos datos son correctos? ¿Agregarías algún detalle adicional?"
   ]
  },
  {
   "cell_type": "code",
   "execution_count": 28,
   "metadata": {
    "colab": {},
    "colab_type": "code",
    "id": "7lvfy-iNjIgA"
   },
   "outputs": [],
   "source": [
    "# resulta que es mejor optar por separar las Américas\n",
    "# clonamos SeisCumbres para modificarla libremente y mantener backup\n",
    "# usarías la primera o la segunda línea? por qué?\n",
    "CumbresxContinente = SeisCumbres\n",
    "CumbresxContinente = SeisCumbres.copy()\n",
    "\n",
    "# incorporá a CumbresxContinente ('America del Norte', 'Denali', 6168) usando .append()\n",
    "CumbresxContinente.append(('América del Norte', 'Denali', 6168))\n",
    "\n",
    "# incorporá a CumbresxContinente ('America del Norte', 'Denali', 6168) usando .insert()\n",
    "# ubicala esta tubla ordenándola alfabeticamente\n",
    "CumbresxContinente.insert(2, ('América del Norte', 'Denali', 6168))\n"
   ]
  },
  {
   "cell_type": "code",
   "execution_count": 29,
   "metadata": {
    "colab": {},
    "colab_type": "code",
    "id": "ZIr9vbZTg5-h"
   },
   "outputs": [
    {
     "data": {
      "text/plain": [
       "[('África', 'Kilimanjaro', 5893),\n",
       " ('Américas', 'Aconcagua', 6962),\n",
       " ('América del Norte', 'Denali', 6168),\n",
       " ('Antártida', 'Maciso Vinson', 4892),\n",
       " ('Asia', 'Everest', 8848),\n",
       " ('Europa', 'Mont Blanc', 4810),\n",
       " ('Oceanía', 'Nemangkawi', 4884),\n",
       " ('América del Norte', 'Denali', 6168)]"
      ]
     },
     "execution_count": 29,
     "metadata": {},
     "output_type": "execute_result"
    }
   ],
   "source": [
    "CumbresxContinente"
   ]
  },
  {
   "cell_type": "code",
   "execution_count": 30,
   "metadata": {
    "colab": {},
    "colab_type": "code",
    "id": "T8w_I7hGjIgG"
   },
   "outputs": [
    {
     "data": {
      "text/plain": [
       "[(0, ('África', 'Kilimanjaro', 5893)),\n",
       " (1, ('Américas', 'Aconcagua', 6962)),\n",
       " (2, ('América del Norte', 'Denali', 6168)),\n",
       " (3, ('Antártida', 'Maciso Vinson', 4892)),\n",
       " (4, ('Asia', 'Everest', 8848)),\n",
       " (5, ('Europa', 'Mont Blanc', 4810)),\n",
       " (6, ('Oceanía', 'Nemangkawi', 4884)),\n",
       " (7, ('América del Norte', 'Denali', 6168))]"
      ]
     },
     "execution_count": 30,
     "metadata": {},
     "output_type": "execute_result"
    }
   ],
   "source": [
    "list(enumerate(CumbresxContinente))"
   ]
  },
  {
   "cell_type": "code",
   "execution_count": 31,
   "metadata": {
    "colab": {},
    "colab_type": "code",
    "id": "tQ9wM8PQ9_dA"
   },
   "outputs": [
    {
     "data": {
      "text/plain": [
       "[(0, ('África', 'Kilimanjaro', 5893)),\n",
       " (1, ('Américas', 'Aconcagua', 6962)),\n",
       " (2, ('Antártida', 'Maciso Vinson', 4892)),\n",
       " (3, ('Asia', 'Everest', 8848)),\n",
       " (4, ('Europa', 'Mont Blanc', 4810)),\n",
       " (5, ('Oceanía', 'Nemangkawi', 4884))]"
      ]
     },
     "execution_count": 31,
     "metadata": {},
     "output_type": "execute_result"
    }
   ],
   "source": [
    "list(enumerate(SeisCumbres))"
   ]
  },
  {
   "cell_type": "markdown",
   "metadata": {
    "colab_type": "text",
    "id": "is3SCGrTUMDd"
   },
   "source": [
    "* ¿Recordás sobre qué elemento hicimos las modificaciones? ¿Y cómo opera el .copy()?"
   ]
  },
  {
   "cell_type": "code",
   "execution_count": 32,
   "metadata": {
    "colab": {},
    "colab_type": "code",
    "id": "1SVLpZjWjIgL"
   },
   "outputs": [
    {
     "data": {
      "text/plain": [
       "('América del Norte', 'Denali', 6168)"
      ]
     },
     "execution_count": 32,
     "metadata": {},
     "output_type": "execute_result"
    }
   ],
   "source": [
    "# usá .pop() para borrar el último elemento\n",
    "CumbresxContinente.pop()"
   ]
  },
  {
   "cell_type": "code",
   "execution_count": 33,
   "metadata": {
    "colab": {},
    "colab_type": "code",
    "id": "4h88pOiUjIgR"
   },
   "outputs": [
    {
     "data": {
      "text/plain": [
       "'Américas'"
      ]
     },
     "execution_count": 33,
     "metadata": {},
     "output_type": "execute_result"
    }
   ],
   "source": [
    "# te acordás de la indexación? \n",
    "# cómo harías para recuperar la palabra 'Américas'?\n",
    "CumbresxContinente[1][0] # en este caso usamos subíndices!"
   ]
  },
  {
   "cell_type": "code",
   "execution_count": 34,
   "metadata": {
    "colab": {},
    "colab_type": "code",
    "id": "izusIFTEjIgY"
   },
   "outputs": [],
   "source": [
    "# tenemos que modificar 'Américas'\n",
    "# intentá con .remove()\n",
    "# si no sabés cómo comenzar, acordaté de pedir ayuda! => usá help(xx) o el 'xx?' al final\n",
    "CumbresxContinente.remove(('Américas', 'Aconcagua', 6962))\n"
   ]
  },
  {
   "cell_type": "markdown",
   "metadata": {
    "colab_type": "text",
    "id": "NQY-vwgjjIgc"
   },
   "source": [
    " * A diferencia de .pop(), .remove() no arroja el resultado del ítem eliminado. Mientras en el primero se referencia el índice del ítem, en el segundo se menciona el ítem completo"
   ]
  },
  {
   "cell_type": "code",
   "execution_count": 35,
   "metadata": {
    "colab": {},
    "colab_type": "code",
    "id": "J2z5iYojjIgd"
   },
   "outputs": [],
   "source": [
    "# por qué borramos la tupla completa \n",
    "# en lugar de reemplazar 'Américas' por 'América del Sur'?\n",
    "CumbresxContinente.insert(2, ('América del Sur', 'Aconcagua', 6962))"
   ]
  },
  {
   "cell_type": "code",
   "execution_count": 36,
   "metadata": {
    "colab": {},
    "colab_type": "code",
    "id": "ri9fZBrZjIgi"
   },
   "outputs": [
    {
     "data": {
      "text/plain": [
       "[('África', 'Kilimanjaro', 5893),\n",
       " ('América del Norte', 'Denali', 6168),\n",
       " ('América del Sur', 'Aconcagua', 6962),\n",
       " ('Antártida', 'Maciso Vinson', 4892),\n",
       " ('Asia', 'Everest', 8848),\n",
       " ('Europa', 'Mont Blanc', 4810),\n",
       " ('Oceanía', 'Nemangkawi', 4884)]"
      ]
     },
     "execution_count": 36,
     "metadata": {},
     "output_type": "execute_result"
    }
   ],
   "source": [
    "CumbresxContinente"
   ]
  },
  {
   "cell_type": "markdown",
   "metadata": {
    "colab_type": "text",
    "id": "jwj0e9mhA0L2"
   },
   "source": [
    "Ahora nos damos cuenta que hay una referencia mal ingresada. La cima europea no es el Mont Blanc, sino el Elbrus. Debemos corregirlo!"
   ]
  },
  {
   "cell_type": "code",
   "execution_count": 37,
   "metadata": {
    "colab": {},
    "colab_type": "code",
    "id": "oaVoBmTgjIgp"
   },
   "outputs": [],
   "source": [
    "# incorporá a CumbresxContinente ('Europa', 'Elbrus', 5642) en el sexto lugar, ¿qué comando usarías?\n",
    "CumbresxContinente.remove(('Europa', 'Mont Blanc', 4810))\n",
    "CumbresxContinente.insert(5,('Europa', 'Elbrus', 5642))"
   ]
  },
  {
   "cell_type": "code",
   "execution_count": 38,
   "metadata": {
    "colab": {},
    "colab_type": "code",
    "id": "SvaoYk0UjIgr"
   },
   "outputs": [
    {
     "data": {
      "text/plain": [
       "[('África', 'Kilimanjaro', 5893),\n",
       " ('América del Norte', 'Denali', 6168),\n",
       " ('América del Sur', 'Aconcagua', 6962),\n",
       " ('Antártida', 'Maciso Vinson', 4892),\n",
       " ('Asia', 'Everest', 8848),\n",
       " ('Europa', 'Elbrus', 5642),\n",
       " ('Oceanía', 'Nemangkawi', 4884)]"
      ]
     },
     "execution_count": 38,
     "metadata": {},
     "output_type": "execute_result"
    }
   ],
   "source": [
    "CumbresxContinente"
   ]
  },
  {
   "cell_type": "code",
   "execution_count": 39,
   "metadata": {
    "colab": {},
    "colab_type": "code",
    "id": "FHlgGFA9jIgy"
   },
   "outputs": [
    {
     "data": {
      "text/plain": [
       "[5893, 6168, 6962, 4892, 8848, 5642, 4884]"
      ]
     },
     "execution_count": 39,
     "metadata": {},
     "output_type": "execute_result"
    }
   ],
   "source": [
    "# acá presentamos la estructura de una lista de comprensión\n",
    "# las listas por comprensión son análogas a un loop FOR, aunque en una sólo línea!\n",
    "list(c for a,b,c in CumbresxContinente)"
   ]
  },
  {
   "cell_type": "markdown",
   "metadata": {
    "colab_type": "text",
    "id": "jAndaoeX49Az"
   },
   "source": [
    "* ¿Si la pensás como un FOR, cómo sería la lógica? ¿Y con respecto a la c, qué datos toma? \n"
   ]
  },
  {
   "cell_type": "code",
   "execution_count": 40,
   "metadata": {
    "colab": {},
    "colab_type": "code",
    "id": "GK1Iuv5-41IN"
   },
   "outputs": [],
   "source": [
    "#sobre esa lista, aplicamos funiones de máximo y lo mínimo"
   ]
  },
  {
   "cell_type": "code",
   "execution_count": 41,
   "metadata": {
    "colab": {},
    "colab_type": "code",
    "id": "q7pC8BfpjIg9"
   },
   "outputs": [
    {
     "data": {
      "text/plain": [
       "4884"
      ]
     },
     "execution_count": 41,
     "metadata": {},
     "output_type": "execute_result"
    }
   ],
   "source": [
    "min(list(c for a,b,c in CumbresxContinente))"
   ]
  },
  {
   "cell_type": "code",
   "execution_count": 42,
   "metadata": {
    "colab": {},
    "colab_type": "code",
    "id": "hgsqstz0CLeY"
   },
   "outputs": [
    {
     "data": {
      "text/plain": [
       "range(0, 7)"
      ]
     },
     "execution_count": 42,
     "metadata": {},
     "output_type": "execute_result"
    }
   ],
   "source": [
    "range(len(list(c for a,b,c in CumbresxContinente)))"
   ]
  },
  {
   "cell_type": "markdown",
   "metadata": {
    "colab_type": "text",
    "id": "Z2YV0dYxjIhH"
   },
   "source": [
    "#### 3) Diccionarios { }\n",
    "Un *diccionario* es una colección de pares **key:value**, no está ordenada y puede ser **mutable**. La referenciación a los valores del diccionario se realizan a partir de su **key**, por lo tanto, podríamos considerar que esa key opera como una referenciación explícita, pero se pierde el sentido de orden secuencial de tuplas y listas. Permite updates de los pares **key:values**\n",
    "\n",
    "En este caso, volvemos a trabajar con la lista **verano**, y generamos un complemento. a jugar con referencias.\n",
    "\n",
    "Ah! Qué reparaste en los signos (), [], {}"
   ]
  },
  {
   "cell_type": "code",
   "execution_count": 43,
   "metadata": {
    "colab": {},
    "colab_type": "code",
    "id": "BFFyhmFVjIhJ"
   },
   "outputs": [
    {
     "data": {
      "text/plain": [
       "{'calor': 5, 'mar': 3, 'sol': 3, 'humedad': 7, 'pileta': 6, 'vacaciones': 10}"
      ]
     },
     "execution_count": 43,
     "metadata": {},
     "output_type": "execute_result"
    }
   ],
   "source": [
    "# recuperamos la info que cargamos en 'verano' para trabajar con las estaciones....\n",
    "verano_d = {}\n",
    "for k in verano:\n",
    "    verano_d.update({k: len(k)})\n",
    "verano_d"
   ]
  },
  {
   "cell_type": "code",
   "execution_count": null,
   "metadata": {
    "colab": {},
    "colab_type": "code",
    "id": "1y4_0g2WjIhO"
   },
   "outputs": [],
   "source": [
    "# elimina la variable 'verano_d'\n",
    "# del verano_d\n",
    "\n",
    "# reescribe el códico anterior con listas por comprensión\n",
    "?"
   ]
  },
  {
   "cell_type": "code",
   "execution_count": 44,
   "metadata": {
    "colab": {},
    "colab_type": "code",
    "id": "bhFWNqqfjIhU"
   },
   "outputs": [
    {
     "data": {
      "text/plain": [
       "(['calor', 'mar', 'sol', 'humedad', 'pileta', 'vacaciones'],\n",
       " ['frio', 'pista de ski', 'nieve'])"
      ]
     },
     "execution_count": 44,
     "metadata": {},
     "output_type": "execute_result"
    }
   ],
   "source": [
    "# ahora construiremos un diccionario de opuestos\n",
    "invierno = ['frio', 'pista de ski', 'nieve']\n",
    "verano, invierno"
   ]
  },
  {
   "cell_type": "code",
   "execution_count": 45,
   "metadata": {
    "colab": {},
    "colab_type": "code",
    "id": "PxYU8TbWjIhZ"
   },
   "outputs": [
    {
     "data": {
      "text/plain": [
       "{'calor': 'nieve',\n",
       " 'mar': 'nieve',\n",
       " 'sol': 'nieve',\n",
       " 'humedad': 'nieve',\n",
       " 'pileta': 'nieve',\n",
       " 'vacaciones': 'nieve'}"
      ]
     },
     "execution_count": 45,
     "metadata": {},
     "output_type": "execute_result"
    }
   ],
   "source": [
    "# observemos el siguiente resultado...\n",
    "antonimos = {k : v for k in verano for v in invierno}\n",
    "antonimos"
   ]
  },
  {
   "cell_type": "markdown",
   "metadata": {
    "colab_type": "text",
    "id": "PyLALNFrjIhc"
   },
   "source": [
    " * ¿Qué sucede? ¿Se registran todos los elementos preexistentes? ¿Por qué?"
   ]
  },
  {
   "cell_type": "code",
   "execution_count": 46,
   "metadata": {
    "colab": {},
    "colab_type": "code",
    "id": "tWuB6VIkjIhd"
   },
   "outputs": [
    {
     "data": {
      "text/plain": [
       "{'calor': 'nieve',\n",
       " 'mar': 'nieve',\n",
       " 'sol': 'nieve',\n",
       " 'humedad': 'nieve',\n",
       " 'pileta': 'nieve',\n",
       " 'vacaciones': 'nieve'}"
      ]
     },
     "execution_count": 46,
     "metadata": {},
     "output_type": "execute_result"
    }
   ],
   "source": [
    "# replica la línea anterior en un loop... \n",
    "# qué hace esta secuencia? ¿cómo podrías repararla?\n",
    "antonimos1 = {}\n",
    "for k in verano:\n",
    "    for v in invierno:\n",
    "        antonimos1.update({k:v})\n",
    "antonimos1"
   ]
  },
  {
   "cell_type": "markdown",
   "metadata": {
    "colab_type": "text",
    "id": "l_OFGcTUjIhg"
   },
   "source": [
    " * ¿Los pares KEY : VALUE aparecen ordenados?"
   ]
  },
  {
   "cell_type": "code",
   "execution_count": 47,
   "metadata": {
    "colab": {},
    "colab_type": "code",
    "id": "kPNqWE2HjIhg"
   },
   "outputs": [
    {
     "data": {
      "text/plain": [
       "{'calor': 'frio', 'mar': 'pista de ski', 'sol': 'nieve'}"
      ]
     },
     "execution_count": 47,
     "metadata": {},
     "output_type": "execute_result"
    }
   ],
   "source": [
    "antonimos = {k : v for k,v in zip(verano,invierno)}\n",
    "antonimos # desordenados!"
   ]
  },
  {
   "cell_type": "code",
   "execution_count": 48,
   "metadata": {
    "colab": {},
    "colab_type": "code",
    "id": "sgUUiUBljIho"
   },
   "outputs": [],
   "source": [
    "# pensemos en los diccionarios como columnas (column name, values)\n",
    "import pandas as pd"
   ]
  },
  {
   "cell_type": "code",
   "execution_count": 49,
   "metadata": {
    "colab": {},
    "colab_type": "code",
    "id": "Gx7z9BYTaix6"
   },
   "outputs": [
    {
     "data": {
      "text/plain": [
       "calor          5\n",
       "mar            3\n",
       "sol            3\n",
       "humedad        7\n",
       "pileta         6\n",
       "vacaciones    10\n",
       "dtype: int64"
      ]
     },
     "execution_count": 49,
     "metadata": {},
     "output_type": "execute_result"
    }
   ],
   "source": [
    "pd.Series(verano_d)"
   ]
  },
  {
   "cell_type": "code",
   "execution_count": 50,
   "metadata": {
    "colab": {},
    "colab_type": "code",
    "id": "AROhAXkEa7kF"
   },
   "outputs": [
    {
     "data": {
      "text/plain": [
       "{'frio': 4, 'pista de ski': 12, 'nieve': 5}"
      ]
     },
     "execution_count": 50,
     "metadata": {},
     "output_type": "execute_result"
    }
   ],
   "source": [
    "invierno_d = {k:len(k) for k in invierno}\n",
    "invierno_d"
   ]
  },
  {
   "cell_type": "code",
   "execution_count": 51,
   "metadata": {
    "colab": {},
    "colab_type": "code",
    "id": "hukISFunbCnK"
   },
   "outputs": [
    {
     "data": {
      "text/html": [
       "<div>\n",
       "<style scoped>\n",
       "    .dataframe tbody tr th:only-of-type {\n",
       "        vertical-align: middle;\n",
       "    }\n",
       "\n",
       "    .dataframe tbody tr th {\n",
       "        vertical-align: top;\n",
       "    }\n",
       "\n",
       "    .dataframe thead th {\n",
       "        text-align: right;\n",
       "    }\n",
       "</style>\n",
       "<table border=\"1\" class=\"dataframe\">\n",
       "  <thead>\n",
       "    <tr style=\"text-align: right;\">\n",
       "      <th></th>\n",
       "      <th>calor</th>\n",
       "      <th>frio</th>\n",
       "      <th>humedad</th>\n",
       "      <th>mar</th>\n",
       "      <th>nieve</th>\n",
       "      <th>pileta</th>\n",
       "      <th>pista de ski</th>\n",
       "      <th>sol</th>\n",
       "      <th>vacaciones</th>\n",
       "    </tr>\n",
       "  </thead>\n",
       "  <tbody>\n",
       "    <tr>\n",
       "      <th>0</th>\n",
       "      <td>5.0</td>\n",
       "      <td>NaN</td>\n",
       "      <td>7.0</td>\n",
       "      <td>3.0</td>\n",
       "      <td>NaN</td>\n",
       "      <td>6.0</td>\n",
       "      <td>NaN</td>\n",
       "      <td>3.0</td>\n",
       "      <td>10.0</td>\n",
       "    </tr>\n",
       "    <tr>\n",
       "      <th>1</th>\n",
       "      <td>NaN</td>\n",
       "      <td>4.0</td>\n",
       "      <td>NaN</td>\n",
       "      <td>NaN</td>\n",
       "      <td>5.0</td>\n",
       "      <td>NaN</td>\n",
       "      <td>12.0</td>\n",
       "      <td>NaN</td>\n",
       "      <td>NaN</td>\n",
       "    </tr>\n",
       "  </tbody>\n",
       "</table>\n",
       "</div>"
      ],
      "text/plain": [
       "   calor  frio  humedad  mar  nieve  pileta  pista de ski  sol  vacaciones\n",
       "0    5.0   NaN      7.0  3.0    NaN     6.0           NaN  3.0        10.0\n",
       "1    NaN   4.0      NaN  NaN    5.0     NaN          12.0  NaN         NaN"
      ]
     },
     "execution_count": 51,
     "metadata": {},
     "output_type": "execute_result"
    }
   ],
   "source": [
    "pd.DataFrame([verano_d, invierno_d])"
   ]
  },
  {
   "cell_type": "markdown",
   "metadata": {
    "colab_type": "text",
    "id": "CClV2pTijIht"
   },
   "source": [
    "¿Qué hacen de diferente pd.Series() y pd.DataFrame() a la hora de generar informacion relevante?\n",
    "## Desafío"
   ]
  },
  {
   "cell_type": "markdown",
   "metadata": {
    "colab_type": "text",
    "id": "3pPJFZ0Qml2L"
   },
   "source": [
    "Contamos con distintos operadores vinculados a una división:"
   ]
  },
  {
   "cell_type": "code",
   "execution_count": 52,
   "metadata": {
    "colab": {},
    "colab_type": "code",
    "id": "bJzfOHSymvlj"
   },
   "outputs": [
    {
     "data": {
      "text/plain": [
       "3.5"
      ]
     },
     "execution_count": 52,
     "metadata": {},
     "output_type": "execute_result"
    }
   ],
   "source": [
    "# la división habitual\n",
    "7/2"
   ]
  },
  {
   "cell_type": "code",
   "execution_count": 53,
   "metadata": {
    "colab": {},
    "colab_type": "code",
    "id": "8gbYgj1Ym1nP"
   },
   "outputs": [
    {
     "data": {
      "text/plain": [
       "3"
      ]
     },
     "execution_count": 53,
     "metadata": {},
     "output_type": "execute_result"
    }
   ],
   "source": [
    "# el // sólo retiene el número entero, soslayando los decimales (tanto .1 como .9, es decir, no redondea!)\n",
    "7//2"
   ]
  },
  {
   "cell_type": "code",
   "execution_count": 54,
   "metadata": {
    "colab": {},
    "colab_type": "code",
    "id": "xsIFMyojnPWo"
   },
   "outputs": [
    {
     "name": "stdout",
     "output_type": "stream",
     "text": [
      "0\n",
      "1\n"
     ]
    }
   ],
   "source": [
    "# el % nos devuelve el resto de la división antes de aplicar resultados decimales, veamos:\n",
    "print(6%3)\n",
    "print(7%2)"
   ]
  },
  {
   "cell_type": "code",
   "execution_count": 55,
   "metadata": {
    "colab": {},
    "colab_type": "code",
    "id": "gGxvT0x5jIhv"
   },
   "outputs": [
    {
     "data": {
      "text/plain": [
       "[1, 3, 5, 7, 9, 11, 13, 15, 17, 19, 21, 23, 25, 27, 29, 31, 33, 35, 37, 39]"
      ]
     },
     "execution_count": 55,
     "metadata": {},
     "output_type": "execute_result"
    }
   ],
   "source": [
    "# creamos una lista de números impares, en el rango de 1 a 40\n",
    "Nimpares = [ x for x in range(40) if x%2!=0]\n",
    "Nimpares"
   ]
  },
  {
   "cell_type": "code",
   "execution_count": null,
   "metadata": {
    "colab": {},
    "colab_type": "code",
    "id": "ZqDb65gbjIh8"
   },
   "outputs": [],
   "source": [
    "# creá una lista Npares de modo tal que excluya al 0 e incluya al 40\n",
    "# recordá que python trabaja con intervalos semiabiertos a derecha\n",
    "# puede serte útil ver o 'printear' el resultado de range(40), recordá encapsularlo como hacíamos con los iteradores!\n",
    "Npares "
   ]
  },
  {
   "cell_type": "code",
   "execution_count": null,
   "metadata": {
    "colab": {},
    "colab_type": "code",
    "id": "fu8Jstn2jIiH"
   },
   "outputs": [],
   "source": []
  }
 ],
 "metadata": {
  "colab": {
   "name": "primeros_pasos_python.ipynb",
   "private_outputs": true,
   "provenance": [],
   "version": "0.3.2"
  },
  "kernelspec": {
   "display_name": "Python 3",
   "language": "python",
   "name": "python3"
  },
  "language_info": {
   "codemirror_mode": {
    "name": "ipython",
    "version": 3
   },
   "file_extension": ".py",
   "mimetype": "text/x-python",
   "name": "python",
   "nbconvert_exporter": "python",
   "pygments_lexer": "ipython3",
   "version": "3.7.1"
  }
 },
 "nbformat": 4,
 "nbformat_minor": 2
}

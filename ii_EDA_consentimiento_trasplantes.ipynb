{
 "cells": [
  {
   "cell_type": "markdown",
   "metadata": {
    "colab_type": "text",
    "id": "RrZf7UYo364q"
   },
   "source": [
    "# Análisis exploratorio de datos\n",
    "El análisis exploratorio de datos se conoce como EDA (exploratory data analysis).\n",
    "\n",
    "\n",
    "## Objetivos\n",
    "1. Presentar las principales librerías de Python para análisis exploratorio de datos y recursos visuales.\n",
    "2. Introducir y familiarizarse con la lectura y la exploración de datasets, permitiendo identificar límites y potencial de los datos así como su adecuación para el análisis.\n",
    "\n",
    "## Datasets\n",
    "Datos abiertos del GCBA. Ministerio de Salud. Instituto de Trasplantes de la Ciudad de Buenos Aires. Los descargamos de [aquí]('https://data.buenosaires.gob.ar/dataset/manifestaciones-a-la-donacion-para-trasplantes').\n",
    "\n",
    "**Manifestaciones a la donación para trasplantes**\n",
    "Información correspondiente a la Campaña de Promoción “Hoy también elegís ser donante de órganos” organizada por el Instituto de Trasplante de la Ciudad de Buenos Aires en el marco de la jornada electoral **PASO 2017** dando cumplimiento a la Ley 2508/07. Se realizó en 62 establecimientos autorizados por la Justicia Electoral de la Ciudad de Buenos Aires.\n",
    "\n",
    "1. *Manifestaciones a la donación para trasplantes*: personas que decidieron sobre la donación de órganos y tejidos en la CABA durante las Elecciones PASO 2017.\n",
    "\n",
    "2. *Establecimentos - Elecciones 2017*: ubicación de los establecimientos autorizados para las Elecciones Legislativas de Octubre 2017.\n",
    "\n"
   ]
  },
  {
   "cell_type": "code",
   "execution_count": 1,
   "metadata": {
    "colab": {},
    "colab_type": "code",
    "id": "KOPfjXWA4CVS"
   },
   "outputs": [],
   "source": [
    "#importamos las librerias con las que trabajaremos\n",
    "import numpy as np\n",
    "from scipy import stats\n",
    "\n",
    "import pandas as pd\n",
    "import seaborn as sns"
   ]
  },
  {
   "cell_type": "markdown",
   "metadata": {
    "colab_type": "text",
    "id": "R345q6laoBKS"
   },
   "source": [
    "### Personas que se expresaron frente a la donación de órganos"
   ]
  },
  {
   "cell_type": "code",
   "execution_count": null,
   "metadata": {
    "colab": {},
    "colab_type": "code",
    "id": "LxSlGatI4Hgp"
   },
   "outputs": [],
   "source": [
    "# este bloque es exclusivo para trabajar con colab\n",
    "# se habilita un botón que tenés que pulsar para seleccionar tu archivo de un directorio local\n",
    "from google.colab import files\n",
    "files.upload()"
   ]
  },
  {
   "cell_type": "code",
   "execution_count": 2,
   "metadata": {
    "colab": {},
    "colab_type": "code",
    "id": "qaIKCAFG4PIW"
   },
   "outputs": [
    {
     "data": {
      "text/html": [
       "<div>\n",
       "<style scoped>\n",
       "    .dataframe tbody tr th:only-of-type {\n",
       "        vertical-align: middle;\n",
       "    }\n",
       "\n",
       "    .dataframe tbody tr th {\n",
       "        vertical-align: top;\n",
       "    }\n",
       "\n",
       "    .dataframe thead th {\n",
       "        text-align: right;\n",
       "    }\n",
       "</style>\n",
       "<table border=\"1\" class=\"dataframe\">\n",
       "  <thead>\n",
       "    <tr style=\"text-align: right;\">\n",
       "      <th></th>\n",
       "      <th>NACIONALIDAD</th>\n",
       "      <th>SEXO</th>\n",
       "      <th>EDAD</th>\n",
       "      <th>CONSENTIMIENTO</th>\n",
       "      <th>CUALQUIER_ORGANO</th>\n",
       "      <th>CUALES_NO</th>\n",
       "      <th>TRASPLANTE</th>\n",
       "      <th>INVESTIGACION</th>\n",
       "      <th>COMUNA</th>\n",
       "    </tr>\n",
       "  </thead>\n",
       "  <tbody>\n",
       "    <tr>\n",
       "      <th>0</th>\n",
       "      <td>ARGENTINA</td>\n",
       "      <td>F</td>\n",
       "      <td>40</td>\n",
       "      <td>SI</td>\n",
       "      <td>SI</td>\n",
       "      <td>NaN</td>\n",
       "      <td>SI</td>\n",
       "      <td>SI</td>\n",
       "      <td>2</td>\n",
       "    </tr>\n",
       "    <tr>\n",
       "      <th>1</th>\n",
       "      <td>ARGENTINA</td>\n",
       "      <td>M</td>\n",
       "      <td>31</td>\n",
       "      <td>SI</td>\n",
       "      <td>SI</td>\n",
       "      <td>NaN</td>\n",
       "      <td>SI</td>\n",
       "      <td>NO</td>\n",
       "      <td>2</td>\n",
       "    </tr>\n",
       "    <tr>\n",
       "      <th>2</th>\n",
       "      <td>ARGENTINA</td>\n",
       "      <td>F</td>\n",
       "      <td>41</td>\n",
       "      <td>SI</td>\n",
       "      <td>SI</td>\n",
       "      <td>NaN</td>\n",
       "      <td>SI</td>\n",
       "      <td>SI</td>\n",
       "      <td>2</td>\n",
       "    </tr>\n",
       "    <tr>\n",
       "      <th>3</th>\n",
       "      <td>ARGENTINA</td>\n",
       "      <td>M</td>\n",
       "      <td>29</td>\n",
       "      <td>SI</td>\n",
       "      <td>SI</td>\n",
       "      <td>NaN</td>\n",
       "      <td>SI</td>\n",
       "      <td>NO</td>\n",
       "      <td>2</td>\n",
       "    </tr>\n",
       "    <tr>\n",
       "      <th>4</th>\n",
       "      <td>ARGENTINA</td>\n",
       "      <td>F</td>\n",
       "      <td>26</td>\n",
       "      <td>SI</td>\n",
       "      <td>SI</td>\n",
       "      <td>NaN</td>\n",
       "      <td>SI</td>\n",
       "      <td>NO</td>\n",
       "      <td>2</td>\n",
       "    </tr>\n",
       "  </tbody>\n",
       "</table>\n",
       "</div>"
      ],
      "text/plain": [
       "  NACIONALIDAD SEXO  EDAD CONSENTIMIENTO CUALQUIER_ORGANO CUALES_NO  \\\n",
       "0    ARGENTINA    F    40             SI               SI       NaN   \n",
       "1    ARGENTINA    M    31             SI               SI       NaN   \n",
       "2    ARGENTINA    F    41             SI               SI       NaN   \n",
       "3    ARGENTINA    M    29             SI               SI       NaN   \n",
       "4    ARGENTINA    F    26             SI               SI       NaN   \n",
       "\n",
       "  TRASPLANTE INVESTIGACION  COMUNA  \n",
       "0         SI            SI       2  \n",
       "1         SI            NO       2  \n",
       "2         SI            SI       2  \n",
       "3         SI            NO       2  \n",
       "4         SI            NO       2  "
      ]
     },
     "execution_count": 2,
     "metadata": {},
     "output_type": "execute_result"
    }
   ],
   "source": [
    "# cargamos el dataset, instanciándolo para poder referenciarlo luego\n",
    "data = pd.read_csv('manifestaciones-a-la-donacion-para-trasplantes.csv', sep=';')\n",
    "\n",
    "# visualizamos que se haya cargado bien\n",
    "data.head()"
   ]
  },
  {
   "cell_type": "code",
   "execution_count": 3,
   "metadata": {
    "colab": {},
    "colab_type": "code",
    "id": "qZHQJx_R4963"
   },
   "outputs": [
    {
     "name": "stdout",
     "output_type": "stream",
     "text": [
      "<class 'pandas.core.frame.DataFrame'>\n",
      "RangeIndex: 1502 entries, 0 to 1501\n",
      "Data columns (total 9 columns):\n",
      "NACIONALIDAD        1502 non-null object\n",
      "SEXO                1502 non-null object\n",
      "EDAD                1502 non-null int64\n",
      "CONSENTIMIENTO      1502 non-null object\n",
      "CUALQUIER_ORGANO    1502 non-null object\n",
      "CUALES_NO           14 non-null object\n",
      "TRASPLANTE          1502 non-null object\n",
      "INVESTIGACION       1502 non-null object\n",
      "COMUNA              1502 non-null int64\n",
      "dtypes: int64(2), object(7)\n",
      "memory usage: 105.7+ KB\n"
     ]
    }
   ],
   "source": [
    "# chequamos dimensiones, estructura, contenido\n",
    "data.info()"
   ]
  },
  {
   "cell_type": "markdown",
   "metadata": {
    "colab_type": "text",
    "id": "u5MlNgZWAXIH"
   },
   "source": [
    "Según `.info()`:\n",
    "* ¿Cómo identificarías si hay datos vacíos?\n",
    "* ¿Podés decir que el dataset está bien organizado? ¿Por qué?\n",
    "* ¿Eliminarías alguna fila o alguna columna?\n",
    "* ¿Transformarías algún dato? \n",
    "* ¿Ya podrías analizarlo?\n",
    "* Observando el dataset (su estructura, el nombre de las columnas, características de las respuestas, etc.), ¿cómo lo caracterizarías? ¿qué tipo de preguntas podrías responder?"
   ]
  },
  {
   "cell_type": "code",
   "execution_count": 4,
   "metadata": {
    "colab": {},
    "colab_type": "code",
    "id": "NZknFk345GrK"
   },
   "outputs": [
    {
     "data": {
      "text/html": [
       "<div>\n",
       "<style scoped>\n",
       "    .dataframe tbody tr th:only-of-type {\n",
       "        vertical-align: middle;\n",
       "    }\n",
       "\n",
       "    .dataframe tbody tr th {\n",
       "        vertical-align: top;\n",
       "    }\n",
       "\n",
       "    .dataframe thead th {\n",
       "        text-align: right;\n",
       "    }\n",
       "</style>\n",
       "<table border=\"1\" class=\"dataframe\">\n",
       "  <thead>\n",
       "    <tr style=\"text-align: right;\">\n",
       "      <th></th>\n",
       "      <th>EDAD</th>\n",
       "      <th>COMUNA</th>\n",
       "    </tr>\n",
       "  </thead>\n",
       "  <tbody>\n",
       "    <tr>\n",
       "      <th>count</th>\n",
       "      <td>1502.000000</td>\n",
       "      <td>1502.000000</td>\n",
       "    </tr>\n",
       "    <tr>\n",
       "      <th>mean</th>\n",
       "      <td>42.914780</td>\n",
       "      <td>8.032623</td>\n",
       "    </tr>\n",
       "    <tr>\n",
       "      <th>std</th>\n",
       "      <td>15.259494</td>\n",
       "      <td>4.407416</td>\n",
       "    </tr>\n",
       "    <tr>\n",
       "      <th>min</th>\n",
       "      <td>18.000000</td>\n",
       "      <td>1.000000</td>\n",
       "    </tr>\n",
       "    <tr>\n",
       "      <th>25%</th>\n",
       "      <td>30.000000</td>\n",
       "      <td>4.000000</td>\n",
       "    </tr>\n",
       "    <tr>\n",
       "      <th>50%</th>\n",
       "      <td>41.000000</td>\n",
       "      <td>8.000000</td>\n",
       "    </tr>\n",
       "    <tr>\n",
       "      <th>75%</th>\n",
       "      <td>54.000000</td>\n",
       "      <td>12.000000</td>\n",
       "    </tr>\n",
       "    <tr>\n",
       "      <th>max</th>\n",
       "      <td>99.000000</td>\n",
       "      <td>15.000000</td>\n",
       "    </tr>\n",
       "  </tbody>\n",
       "</table>\n",
       "</div>"
      ],
      "text/plain": [
       "              EDAD       COMUNA\n",
       "count  1502.000000  1502.000000\n",
       "mean     42.914780     8.032623\n",
       "std      15.259494     4.407416\n",
       "min      18.000000     1.000000\n",
       "25%      30.000000     4.000000\n",
       "50%      41.000000     8.000000\n",
       "75%      54.000000    12.000000\n",
       "max      99.000000    15.000000"
      ]
     },
     "execution_count": 4,
     "metadata": {},
     "output_type": "execute_result"
    }
   ],
   "source": [
    "# qué hace .describe()? \n",
    "# qué tipos de datos lee?\n",
    "data.describe()"
   ]
  },
  {
   "cell_type": "markdown",
   "metadata": {
    "colab_type": "text",
    "id": "1T2rvLRkr64t"
   },
   "source": [
    "#### Exploremos la información troncal del dataset"
   ]
  },
  {
   "cell_type": "code",
   "execution_count": 5,
   "metadata": {
    "colab": {},
    "colab_type": "code",
    "id": "D61wjeyDsLrf"
   },
   "outputs": [
    {
     "data": {
      "text/plain": [
       "0       True\n",
       "1       True\n",
       "2       True\n",
       "3       True\n",
       "4       True\n",
       "5       True\n",
       "6       True\n",
       "7       True\n",
       "8       True\n",
       "9       True\n",
       "10      True\n",
       "11      True\n",
       "12      True\n",
       "13      True\n",
       "14      True\n",
       "15      True\n",
       "16      True\n",
       "17      True\n",
       "18      True\n",
       "19      True\n",
       "20      True\n",
       "21      True\n",
       "22      True\n",
       "23      True\n",
       "24      True\n",
       "25      True\n",
       "26      True\n",
       "27      True\n",
       "28      True\n",
       "29      True\n",
       "        ... \n",
       "1472    True\n",
       "1473    True\n",
       "1474    True\n",
       "1475    True\n",
       "1476    True\n",
       "1477    True\n",
       "1478    True\n",
       "1479    True\n",
       "1480    True\n",
       "1481    True\n",
       "1482    True\n",
       "1483    True\n",
       "1484    True\n",
       "1485    True\n",
       "1486    True\n",
       "1487    True\n",
       "1488    True\n",
       "1489    True\n",
       "1490    True\n",
       "1491    True\n",
       "1492    True\n",
       "1493    True\n",
       "1494    True\n",
       "1495    True\n",
       "1496    True\n",
       "1497    True\n",
       "1498    True\n",
       "1499    True\n",
       "1500    True\n",
       "1501    True\n",
       "Name: CONSENTIMIENTO, Length: 1502, dtype: bool"
      ]
     },
     "execution_count": 5,
     "metadata": {},
     "output_type": "execute_result"
    }
   ],
   "source": [
    "# esta expresión genera un booleano sobre la serie/variable/columna que le pasamos\n",
    "data['CONSENTIMIENTO']=='SI'"
   ]
  },
  {
   "cell_type": "code",
   "execution_count": 6,
   "metadata": {
    "colab": {},
    "colab_type": "code",
    "id": "Bj-WQktTsX0k"
   },
   "outputs": [
    {
     "data": {
      "text/plain": [
       "0       SI\n",
       "1       SI\n",
       "2       SI\n",
       "3       SI\n",
       "4       SI\n",
       "5       SI\n",
       "6       SI\n",
       "7       SI\n",
       "8       SI\n",
       "9       SI\n",
       "10      SI\n",
       "11      SI\n",
       "12      SI\n",
       "13      SI\n",
       "14      SI\n",
       "15      SI\n",
       "16      SI\n",
       "17      SI\n",
       "18      SI\n",
       "19      SI\n",
       "20      SI\n",
       "21      SI\n",
       "22      SI\n",
       "23      SI\n",
       "24      SI\n",
       "25      SI\n",
       "26      SI\n",
       "27      SI\n",
       "28      SI\n",
       "29      SI\n",
       "        ..\n",
       "1472    SI\n",
       "1473    SI\n",
       "1474    SI\n",
       "1475    SI\n",
       "1476    SI\n",
       "1477    SI\n",
       "1478    SI\n",
       "1479    SI\n",
       "1480    SI\n",
       "1481    SI\n",
       "1482    SI\n",
       "1483    SI\n",
       "1484    SI\n",
       "1485    SI\n",
       "1486    SI\n",
       "1487    SI\n",
       "1488    SI\n",
       "1489    SI\n",
       "1490    SI\n",
       "1491    SI\n",
       "1492    SI\n",
       "1493    SI\n",
       "1494    SI\n",
       "1495    SI\n",
       "1496    SI\n",
       "1497    SI\n",
       "1498    SI\n",
       "1499    SI\n",
       "1500    SI\n",
       "1501    SI\n",
       "Name: CONSENTIMIENTO, Length: 1486, dtype: object"
      ]
     },
     "execution_count": 6,
     "metadata": {},
     "output_type": "execute_result"
    }
   ],
   "source": [
    "# empleamos la condición de arriba para seleccionar aquellos casos/registros/filas que cumplan con esa condición\n",
    "# aquí hacemos la selección sobre la misma columna\n",
    "# alternativamente se podría utilizar otra columna o el dataset completo, depende de lo que busquemos identificar!\n",
    "data['CONSENTIMIENTO'][data['CONSENTIMIENTO']=='SI']"
   ]
  },
  {
   "cell_type": "code",
   "execution_count": 7,
   "metadata": {
    "colab": {},
    "colab_type": "code",
    "id": "XOkZgdb3tGLG"
   },
   "outputs": [
    {
     "data": {
      "text/plain": [
       "1486"
      ]
     },
     "execution_count": 7,
     "metadata": {},
     "output_type": "execute_result"
    }
   ],
   "source": [
    "# sobre la línea de arriba, .count() permite contrar la cantidad de filas que cumple esa condición\n",
    "data['CONSENTIMIENTO'][data['CONSENTIMIENTO']=='SI'].count()"
   ]
  },
  {
   "cell_type": "code",
   "execution_count": 8,
   "metadata": {
    "colab": {},
    "colab_type": "code",
    "id": "phfpxly7qN9m"
   },
   "outputs": [
    {
     "name": "stdout",
     "output_type": "stream",
     "text": [
      "porcentaje de donantes:  98.93\n"
     ]
    }
   ],
   "source": [
    "# aquí utilizamos esa construcción para contar respuestas afirmativas y negativas, guardando el resultado en memoria\n",
    "donan = data['CONSENTIMIENTO'][data['CONSENTIMIENTO']=='SI'].count()\n",
    "no_donan = data['CONSENTIMIENTO'][data['CONSENTIMIENTO']!='SI'].count()\n",
    "\n",
    "# con ello, realizamos una operación que resuma la información\n",
    "print('porcentaje de donantes: ', round(donan/len(data)*100,2))"
   ]
  },
  {
   "cell_type": "code",
   "execution_count": 9,
   "metadata": {
    "colab": {},
    "colab_type": "code",
    "id": "sujk96yNqU49"
   },
   "outputs": [
    {
     "data": {
      "text/plain": [
       "30"
      ]
     },
     "execution_count": 9,
     "metadata": {},
     "output_type": "execute_result"
    }
   ],
   "source": [
    "data['CUALQUIER_ORGANO'][data['CUALQUIER_ORGANO']!='SI'].count()"
   ]
  },
  {
   "cell_type": "code",
   "execution_count": 10,
   "metadata": {
    "colab": {},
    "colab_type": "code",
    "id": "G0RXgqyjqdLw"
   },
   "outputs": [
    {
     "data": {
      "text/plain": [
       "59             HIGADO-CORNEAS\n",
       "233      RIÑON-HIGADO-CORNEAS\n",
       "234              HIGADO-RIÑON\n",
       "326                      OJOS\n",
       "432                   CORNEAS\n",
       "433       CORNEAS-PIEL-HUESOS\n",
       "528                   CORNEAS\n",
       "529       CORNEAS-PIEL-HUESOS\n",
       "648       HIGADO-RIÑON-PULMON\n",
       "883     RIÑON-CORNEAS-CORAZON\n",
       "914               PIEL-HUESOS\n",
       "1002                  TEJIDOS\n",
       "1013                     PIEL\n",
       "1434                  CORNEAS\n",
       "Name: CUALES_NO, dtype: object"
      ]
     },
     "execution_count": 10,
     "metadata": {},
     "output_type": "execute_result"
    }
   ],
   "source": [
    "# .notnull() también opera como un booleano\n",
    "# con la misma lógica que antes, podemos seleccionar aquellas filas cuya respuesta presenta alguna especificación\n",
    "data['CUALES_NO'][data['CUALES_NO'].notnull()]"
   ]
  },
  {
   "cell_type": "code",
   "execution_count": 11,
   "metadata": {
    "colab": {},
    "colab_type": "code",
    "id": "oJebim2tq6Xn"
   },
   "outputs": [
    {
     "data": {
      "text/plain": [
       "82      True\n",
       "83      True\n",
       "96      True\n",
       "119     True\n",
       "120     True\n",
       "121     True\n",
       "122     True\n",
       "132     True\n",
       "133     True\n",
       "167     True\n",
       "556     True\n",
       "1371    True\n",
       "1381    True\n",
       "1382    True\n",
       "1383    True\n",
       "1388    True\n",
       "dtype: bool"
      ]
     },
     "execution_count": 11,
     "metadata": {},
     "output_type": "execute_result"
    }
   ],
   "source": [
    "# vemos que hay 16 personas que no dieron consentimiento para donación\n",
    "# también hay 16 que no aceptaron donar para trasplante\n",
    "# serán los mismos? qué podés decir a partir de este output?\n",
    "data['TRASPLANTE'][data['TRASPLANTE']!='SI'] == data['CONSENTIMIENTO'][data['CONSENTIMIENTO']!='SI']"
   ]
  },
  {
   "cell_type": "code",
   "execution_count": 12,
   "metadata": {
    "colab": {},
    "colab_type": "code",
    "id": "2EXlMiSXrKA-"
   },
   "outputs": [
    {
     "data": {
      "text/plain": [
       "909"
      ]
     },
     "execution_count": 12,
     "metadata": {},
     "output_type": "execute_result"
    }
   ],
   "source": [
    "data['INVESTIGACION'][data['INVESTIGACION']!='SI'].count()"
   ]
  },
  {
   "cell_type": "markdown",
   "metadata": {
    "colab_type": "text",
    "id": "M5iZf8RBr4cs"
   },
   "source": [
    "#### Retomemos la exploración de las variables numéricas\n",
    "Con funciones propias de la estadística descriptiva, obtendremos información acerca de las características de los encuestados"
   ]
  },
  {
   "cell_type": "code",
   "execution_count": 13,
   "metadata": {
    "colab": {},
    "colab_type": "code",
    "id": "XprNM4Ve8go8"
   },
   "outputs": [
    {
     "data": {
      "text/plain": [
       "0.05    21.0\n",
       "0.95    69.0\n",
       "Name: EDAD, dtype: float64"
      ]
     },
     "execution_count": 13,
     "metadata": {},
     "output_type": "execute_result"
    }
   ],
   "source": [
    "data['EDAD'].quantile([.05, .95])"
   ]
  },
  {
   "cell_type": "code",
   "execution_count": 14,
   "metadata": {
    "colab": {},
    "colab_type": "code",
    "id": "4vjDvtEVlTe8"
   },
   "outputs": [
    {
     "data": {
      "text/plain": [
       "ModeResult(mode=array([29], dtype=int64), count=array([47]))"
      ]
     },
     "execution_count": 14,
     "metadata": {},
     "output_type": "execute_result"
    }
   ],
   "source": [
    "# la moda proviene del módulo stats de SciPy\n",
    "stats.mode(data['EDAD'])"
   ]
  },
  {
   "cell_type": "code",
   "execution_count": 15,
   "metadata": {
    "colab": {},
    "colab_type": "code",
    "id": "jPgn0BUI7xny"
   },
   "outputs": [
    {
     "name": "stdout",
     "output_type": "stream",
     "text": [
      "casos:  1502\n",
      "promedio:  42.91\n",
      "mediana:  41.0\n",
      "moda:  29\n",
      "desvío estándar:  15.26\n"
     ]
    }
   ],
   "source": [
    "print('casos: ', len(data))\n",
    "print('promedio: ', round(data['EDAD'].mean(),2))\n",
    "print('mediana: ', round(data['EDAD'].median(),2))\n",
    "print('moda: ', stats.mode(data['EDAD'])[0][0]) # SciPy & índices/subíndices\n",
    "print('desvío estándar: ', round(data['EDAD'].std(),2))\n"
   ]
  },
  {
   "cell_type": "code",
   "execution_count": 16,
   "metadata": {
    "colab": {},
    "colab_type": "code",
    "id": "gjK_1n288p9g"
   },
   "outputs": [
    {
     "data": {
      "image/png": "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\n",
      "text/plain": [
       "<Figure size 864x576 with 1 Axes>"
      ]
     },
     "metadata": {
      "needs_background": "light"
     },
     "output_type": "display_data"
    }
   ],
   "source": [
    "# aquí graficamos la forma que cobra la frecuencia de la variable EDAD\n",
    "# utilizamos un método propio de PANDAS para plotear histogramas\n",
    "data['EDAD'].hist(bins=10, grid=False, figsize=(12,8), color='c', rwidth=0.9);\n",
    "\n",
    "# una vez que ejecutes la celda, si querés, quitá el # de las dos líneas siguientes\n",
    "# seguramente cambie de formato el fondo del gráfico, debido a que antepuse un estilo preseteado de otra librería, SEABORN\n",
    "#sns.set(style='whitegrid', font_scale=1.5)\n",
    "#data['EDAD'].hist(bins=10, grid=False, figsize=(12,8), color='c', rwidth=0.9);"
   ]
  },
  {
   "cell_type": "code",
   "execution_count": 17,
   "metadata": {
    "colab": {},
    "colab_type": "code",
    "id": "50RfV_Q9j1Ng"
   },
   "outputs": [
    {
     "data": {
      "image/png": "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\n",
      "text/plain": [
       "<Figure size 864x576 with 1 Axes>"
      ]
     },
     "metadata": {
      "needs_background": "light"
     },
     "output_type": "display_data"
    }
   ],
   "source": [
    "# sabés cómo interpretar un boxplot o diagrama de caja?\n",
    "# data.boxplot(by='SEXO', figsize=(12,8), layout=(1,2));\n",
    "data.boxplot('EDAD', by='SEXO', figsize=(12,8));"
   ]
  },
  {
   "cell_type": "code",
   "execution_count": 18,
   "metadata": {
    "colab": {},
    "colab_type": "code",
    "id": "SFX9_YKh-12D"
   },
   "outputs": [
    {
     "data": {
      "text/plain": [
       "array(['ARGENTINA', 'CHILENA', 'PERUANA', 'URUGUAYA', 'ESPAÑOLA',\n",
       "       'PARAGUAYA', 'BOLIVIANA', 'CANADIENSE', 'BRASILERA', 'VENEZOLANA',\n",
       "       'ITALIANA', 'MEXICANA', 'COLOMBIANA', 'FINLANDESA'], dtype=object)"
      ]
     },
     "execution_count": 18,
     "metadata": {},
     "output_type": "execute_result"
    }
   ],
   "source": [
    "data['NACIONALIDAD'].unique()"
   ]
  },
  {
   "cell_type": "code",
   "execution_count": 19,
   "metadata": {
    "colab": {},
    "colab_type": "code",
    "id": "CnLhxTQQ5Srl"
   },
   "outputs": [
    {
     "data": {
      "text/plain": [
       "ARGENTINA     1448\n",
       "PARAGUAYA       16\n",
       "URUGUAYA        13\n",
       "BRASILERA        5\n",
       "PERUANA          3\n",
       "CHILENA          3\n",
       "BOLIVIANA        3\n",
       "ITALIANA         2\n",
       "VENEZOLANA       2\n",
       "ESPAÑOLA         2\n",
       "MEXICANA         2\n",
       "CANADIENSE       1\n",
       "FINLANDESA       1\n",
       "COLOMBIANA       1\n",
       "Name: NACIONALIDAD, dtype: int64"
      ]
     },
     "execution_count": 19,
     "metadata": {},
     "output_type": "execute_result"
    }
   ],
   "source": [
    "data['NACIONALIDAD'].value_counts()"
   ]
  },
  {
   "cell_type": "code",
   "execution_count": 20,
   "metadata": {
    "colab": {},
    "colab_type": "code",
    "id": "ML7H9zs0spLL"
   },
   "outputs": [
    {
     "data": {
      "text/html": [
       "<div>\n",
       "<style scoped>\n",
       "    .dataframe tbody tr th:only-of-type {\n",
       "        vertical-align: middle;\n",
       "    }\n",
       "\n",
       "    .dataframe tbody tr th {\n",
       "        vertical-align: top;\n",
       "    }\n",
       "\n",
       "    .dataframe thead th {\n",
       "        text-align: right;\n",
       "    }\n",
       "</style>\n",
       "<table border=\"1\" class=\"dataframe\">\n",
       "  <thead>\n",
       "    <tr style=\"text-align: right;\">\n",
       "      <th></th>\n",
       "      <th>NACIONALIDAD</th>\n",
       "      <th>SEXO</th>\n",
       "      <th>EDAD</th>\n",
       "      <th>COMUNA</th>\n",
       "    </tr>\n",
       "  </thead>\n",
       "  <tbody>\n",
       "    <tr>\n",
       "      <th>82</th>\n",
       "      <td>ARGENTINA</td>\n",
       "      <td>F</td>\n",
       "      <td>24</td>\n",
       "      <td>8</td>\n",
       "    </tr>\n",
       "    <tr>\n",
       "      <th>83</th>\n",
       "      <td>ARGENTINA</td>\n",
       "      <td>F</td>\n",
       "      <td>37</td>\n",
       "      <td>4</td>\n",
       "    </tr>\n",
       "    <tr>\n",
       "      <th>96</th>\n",
       "      <td>ARGENTINA</td>\n",
       "      <td>F</td>\n",
       "      <td>36</td>\n",
       "      <td>1</td>\n",
       "    </tr>\n",
       "    <tr>\n",
       "      <th>119</th>\n",
       "      <td>ARGENTINA</td>\n",
       "      <td>M</td>\n",
       "      <td>18</td>\n",
       "      <td>4</td>\n",
       "    </tr>\n",
       "    <tr>\n",
       "      <th>120</th>\n",
       "      <td>PERUANA</td>\n",
       "      <td>F</td>\n",
       "      <td>38</td>\n",
       "      <td>4</td>\n",
       "    </tr>\n",
       "    <tr>\n",
       "      <th>121</th>\n",
       "      <td>ARGENTINA</td>\n",
       "      <td>M</td>\n",
       "      <td>37</td>\n",
       "      <td>4</td>\n",
       "    </tr>\n",
       "    <tr>\n",
       "      <th>122</th>\n",
       "      <td>ARGENTINA</td>\n",
       "      <td>F</td>\n",
       "      <td>34</td>\n",
       "      <td>4</td>\n",
       "    </tr>\n",
       "    <tr>\n",
       "      <th>132</th>\n",
       "      <td>ARGENTINA</td>\n",
       "      <td>M</td>\n",
       "      <td>51</td>\n",
       "      <td>6</td>\n",
       "    </tr>\n",
       "    <tr>\n",
       "      <th>133</th>\n",
       "      <td>ARGENTINA</td>\n",
       "      <td>F</td>\n",
       "      <td>82</td>\n",
       "      <td>6</td>\n",
       "    </tr>\n",
       "    <tr>\n",
       "      <th>167</th>\n",
       "      <td>ARGENTINA</td>\n",
       "      <td>M</td>\n",
       "      <td>46</td>\n",
       "      <td>4</td>\n",
       "    </tr>\n",
       "    <tr>\n",
       "      <th>556</th>\n",
       "      <td>ARGENTINA</td>\n",
       "      <td>M</td>\n",
       "      <td>25</td>\n",
       "      <td>15</td>\n",
       "    </tr>\n",
       "    <tr>\n",
       "      <th>1371</th>\n",
       "      <td>ARGENTINA</td>\n",
       "      <td>F</td>\n",
       "      <td>38</td>\n",
       "      <td>13</td>\n",
       "    </tr>\n",
       "    <tr>\n",
       "      <th>1381</th>\n",
       "      <td>ARGENTINA</td>\n",
       "      <td>F</td>\n",
       "      <td>29</td>\n",
       "      <td>8</td>\n",
       "    </tr>\n",
       "    <tr>\n",
       "      <th>1382</th>\n",
       "      <td>ARGENTINA</td>\n",
       "      <td>F</td>\n",
       "      <td>57</td>\n",
       "      <td>7</td>\n",
       "    </tr>\n",
       "    <tr>\n",
       "      <th>1383</th>\n",
       "      <td>ARGENTINA</td>\n",
       "      <td>F</td>\n",
       "      <td>70</td>\n",
       "      <td>3</td>\n",
       "    </tr>\n",
       "    <tr>\n",
       "      <th>1388</th>\n",
       "      <td>ARGENTINA</td>\n",
       "      <td>M</td>\n",
       "      <td>61</td>\n",
       "      <td>4</td>\n",
       "    </tr>\n",
       "  </tbody>\n",
       "</table>\n",
       "</div>"
      ],
      "text/plain": [
       "     NACIONALIDAD SEXO  EDAD  COMUNA\n",
       "82      ARGENTINA    F    24       8\n",
       "83      ARGENTINA    F    37       4\n",
       "96      ARGENTINA    F    36       1\n",
       "119     ARGENTINA    M    18       4\n",
       "120       PERUANA    F    38       4\n",
       "121     ARGENTINA    M    37       4\n",
       "122     ARGENTINA    F    34       4\n",
       "132     ARGENTINA    M    51       6\n",
       "133     ARGENTINA    F    82       6\n",
       "167     ARGENTINA    M    46       4\n",
       "556     ARGENTINA    M    25      15\n",
       "1371    ARGENTINA    F    38      13\n",
       "1381    ARGENTINA    F    29       8\n",
       "1382    ARGENTINA    F    57       7\n",
       "1383    ARGENTINA    F    70       3\n",
       "1388    ARGENTINA    M    61       4"
      ]
     },
     "execution_count": 20,
     "metadata": {},
     "output_type": "execute_result"
    }
   ],
   "source": [
    "# veamos qué particularidades tienen quienes no serán donantes\n",
    "#data.loc[data['CONSENTIMIENTO']!='SI',:]\n",
    "data.loc[data['CONSENTIMIENTO']!='SI',['NACIONALIDAD', 'SEXO', 'EDAD', 'COMUNA']]"
   ]
  },
  {
   "cell_type": "code",
   "execution_count": 21,
   "metadata": {
    "colab": {},
    "colab_type": "code",
    "id": "MEYMPgqa5dYh"
   },
   "outputs": [
    {
     "data": {
      "text/html": [
       "<div>\n",
       "<style scoped>\n",
       "    .dataframe tbody tr th:only-of-type {\n",
       "        vertical-align: middle;\n",
       "    }\n",
       "\n",
       "    .dataframe tbody tr th {\n",
       "        vertical-align: top;\n",
       "    }\n",
       "\n",
       "    .dataframe thead th {\n",
       "        text-align: right;\n",
       "    }\n",
       "</style>\n",
       "<table border=\"1\" class=\"dataframe\">\n",
       "  <thead>\n",
       "    <tr style=\"text-align: right;\">\n",
       "      <th></th>\n",
       "      <th></th>\n",
       "      <th>EDAD</th>\n",
       "      <th>COMUNA</th>\n",
       "    </tr>\n",
       "    <tr>\n",
       "      <th>NACIONALIDAD</th>\n",
       "      <th>SEXO</th>\n",
       "      <th></th>\n",
       "      <th></th>\n",
       "    </tr>\n",
       "  </thead>\n",
       "  <tbody>\n",
       "    <tr>\n",
       "      <th rowspan=\"2\" valign=\"top\">ARGENTINA</th>\n",
       "      <th>F</th>\n",
       "      <td>9</td>\n",
       "      <td>9</td>\n",
       "    </tr>\n",
       "    <tr>\n",
       "      <th>M</th>\n",
       "      <td>6</td>\n",
       "      <td>6</td>\n",
       "    </tr>\n",
       "    <tr>\n",
       "      <th>PERUANA</th>\n",
       "      <th>F</th>\n",
       "      <td>1</td>\n",
       "      <td>1</td>\n",
       "    </tr>\n",
       "  </tbody>\n",
       "</table>\n",
       "</div>"
      ],
      "text/plain": [
       "                   EDAD  COMUNA\n",
       "NACIONALIDAD SEXO              \n",
       "ARGENTINA    F        9       9\n",
       "             M        6       6\n",
       "PERUANA      F        1       1"
      ]
     },
     "execution_count": 21,
     "metadata": {},
     "output_type": "execute_result"
    }
   ],
   "source": [
    "# podemos sintetizar la información a partir de un groupby\n",
    "data.loc[data['CONSENTIMIENTO']!='SI',['NACIONALIDAD', 'SEXO', 'EDAD', 'COMUNA']].groupby(['NACIONALIDAD','SEXO']).count()"
   ]
  },
  {
   "cell_type": "code",
   "execution_count": ,
   "metadata": {
    "colab": {},
    "colab_type": "code",
    "id": "nYdKEj2ntkeF"
   },
   "outputs": [],
   "source": [
    "# cómo trabajarías con quienes sí dieron consentimiento?\n",
    "# escribí el código!\n",
    "?"
   ]
  },
  {
   "cell_type": "markdown",
   "metadata": {
    "colab_type": "text",
    "id": "ddApqgBEqIl_"
   },
   "source": [
    "Una opción para abordar el dataset, es reemplazar los números de las comunas por la referencia a alguno de sus barrios. De hecho, es más sencillo para reconocer si hay alguna asociación con los grupos etarios, el género declarado, la nacionalidad y el consentimiento para la donación. Tenemos un dataset complementario que, al menos en principio, podría facilitarnos ese matching entre el número de la comuna y el barrio. Veamos cómo pueden dialogar en este caso."
   ]
  },
  {
   "cell_type": "markdown",
   "metadata": {
    "colab_type": "text",
    "id": "GxLFx1uIn00O"
   },
   "source": [
    "### Establecimientos"
   ]
  },
  {
   "cell_type": "code",
   "execution_count": null,
   "metadata": {
    "colab": {},
    "colab_type": "code",
    "id": "MX_RHlP-GY_y"
   },
   "outputs": [],
   "source": [
    "# subimos el archivo\n",
    "from google.colab import files\n",
    "files.upload()"
   ]
  },
  {
   "cell_type": "code",
   "execution_count": 23,
   "metadata": {
    "colab": {},
    "colab_type": "code",
    "id": "iB__zDWlVijy"
   },
   "outputs": [],
   "source": [
    "comunas = pd.read_csv('establecimentos-elecciones-2017.csv', sep=';', encoding='utf8')"
   ]
  },
  {
   "cell_type": "code",
   "execution_count": ,
   "metadata": {
    "colab": {},
    "colab_type": "code",
    "id": "bCqrD42knNcx"
   },
   "outputs": [],
   "source": [
    "# cómo haces para ver si el df fue bien cargado?\n",
    "?"
   ]
  },
  {
   "cell_type": "code",
   "execution_count": ,
   "metadata": {
    "colab": {},
    "colab_type": "code",
    "id": "AUkcB0u0df1Q"
   },
   "outputs": [],
   "source": [
    "# chequeá la estructura del dataframe (usualmente referido como df): dimensiones, tipos, nulos, etc.\n",
    "?"
   ]
  },
  {
   "cell_type": "markdown",
   "metadata": {
    "colab_type": "text",
    "id": "gqpkSOsnnhA9"
   },
   "source": [
    "Una vez que pudiste acceder a las columnas:\n",
    "\n",
    "* ¿Qué información nos puede servir para complementar el primer dataset? \n",
    "* ¿Se pueden integrar facilmente los dos datasets? ¿Tienen las mismas dimensiones? ¿Cómo se podrían vincular?\n"
   ]
  },
  {
   "cell_type": "code",
   "execution_count": 26,
   "metadata": {
    "colab": {},
    "colab_type": "code",
    "id": "jJUNHreZZRh0"
   },
   "outputs": [],
   "source": [
    "# vamos a parsear los datos de la comuna\n",
    "# para poder generar una equivalencia entre las columnas 'COMUNA' de un df y otro, tenemos que adaptarlas\n",
    "# por lo tanto, quitamos la palabra 'COMUNA' de cada celda, preservando el número\n",
    "comunas['COMUNA'] = comunas['COMUNA'].apply(lambda x: x.replace('COMUNA','')).astype(int)"
   ]
  },
  {
   "cell_type": "code",
   "execution_count": 27,
   "metadata": {
    "colab": {},
    "colab_type": "code",
    "id": "RZimjVwVVxK_"
   },
   "outputs": [
    {
     "data": {
      "text/html": [
       "<div>\n",
       "<style scoped>\n",
       "    .dataframe tbody tr th:only-of-type {\n",
       "        vertical-align: middle;\n",
       "    }\n",
       "\n",
       "    .dataframe tbody tr th {\n",
       "        vertical-align: top;\n",
       "    }\n",
       "\n",
       "    .dataframe thead th {\n",
       "        text-align: right;\n",
       "    }\n",
       "</style>\n",
       "<table border=\"1\" class=\"dataframe\">\n",
       "  <thead>\n",
       "    <tr style=\"text-align: right;\">\n",
       "      <th></th>\n",
       "      <th>BARRIO</th>\n",
       "      <th>COMUNA</th>\n",
       "    </tr>\n",
       "  </thead>\n",
       "  <tbody>\n",
       "    <tr>\n",
       "      <th>0</th>\n",
       "      <td>RECOLETA</td>\n",
       "      <td>2</td>\n",
       "    </tr>\n",
       "    <tr>\n",
       "      <th>1</th>\n",
       "      <td>RECOLETA</td>\n",
       "      <td>2</td>\n",
       "    </tr>\n",
       "    <tr>\n",
       "      <th>2</th>\n",
       "      <td>BOEDO</td>\n",
       "      <td>5</td>\n",
       "    </tr>\n",
       "    <tr>\n",
       "      <th>3</th>\n",
       "      <td>ALMAGRO</td>\n",
       "      <td>5</td>\n",
       "    </tr>\n",
       "    <tr>\n",
       "      <th>4</th>\n",
       "      <td>VILLA LURO</td>\n",
       "      <td>10</td>\n",
       "    </tr>\n",
       "    <tr>\n",
       "      <th>5</th>\n",
       "      <td>VILLA DEVOTO</td>\n",
       "      <td>11</td>\n",
       "    </tr>\n",
       "    <tr>\n",
       "      <th>6</th>\n",
       "      <td>COGHLAN</td>\n",
       "      <td>12</td>\n",
       "    </tr>\n",
       "    <tr>\n",
       "      <th>7</th>\n",
       "      <td>COLEGIALES</td>\n",
       "      <td>13</td>\n",
       "    </tr>\n",
       "    <tr>\n",
       "      <th>8</th>\n",
       "      <td>PALERMO</td>\n",
       "      <td>14</td>\n",
       "    </tr>\n",
       "    <tr>\n",
       "      <th>9</th>\n",
       "      <td>RECOLETA</td>\n",
       "      <td>2</td>\n",
       "    </tr>\n",
       "  </tbody>\n",
       "</table>\n",
       "</div>"
      ],
      "text/plain": [
       "         BARRIO  COMUNA\n",
       "0      RECOLETA       2\n",
       "1      RECOLETA       2\n",
       "2         BOEDO       5\n",
       "3       ALMAGRO       5\n",
       "4    VILLA LURO      10\n",
       "5  VILLA DEVOTO      11\n",
       "6       COGHLAN      12\n",
       "7    COLEGIALES      13\n",
       "8       PALERMO      14\n",
       "9      RECOLETA       2"
      ]
     },
     "execution_count": 27,
     "metadata": {},
     "output_type": "execute_result"
    }
   ],
   "source": [
    "# acá tenemos a las columnas candidatas para el parseo\n",
    "# está todo bien en los datos?\n",
    "comunas[['BARRIO','COMUNA']]"
   ]
  },
  {
   "cell_type": "code",
   "execution_count": 28,
   "metadata": {
    "colab": {},
    "colab_type": "code",
    "id": "JZ-e3aMbeRzQ"
   },
   "outputs": [
    {
     "data": {
      "text/plain": [
       "{2: 'RECOLETA',\n",
       " 5: 'ALMAGRO',\n",
       " 10: 'VILLA LURO',\n",
       " 11: 'VILLA DEVOTO',\n",
       " 12: 'COGHLAN',\n",
       " 13: 'COLEGIALES',\n",
       " 14: 'PALERMO'}"
      ]
     },
     "execution_count": 28,
     "metadata": {},
     "output_type": "execute_result"
    }
   ],
   "source": [
    "# vamos a llevar ese subset a un diccionario para que las KEYS sean para el matching con el df DATA y los VALUE operen como etiquetas\n",
    "ref = { k:v for v,k in zip(comunas['BARRIO'],comunas['COMUNA'])}\n",
    "ref"
   ]
  },
  {
   "cell_type": "markdown",
   "metadata": {
    "colab_type": "text",
    "id": "IfkGt5FcHjiQ"
   },
   "source": [
    "¿La información está completa? ¿Perdimos algo en el camino?"
   ]
  },
  {
   "cell_type": "code",
   "execution_count": 29,
   "metadata": {
    "colab": {},
    "colab_type": "code",
    "id": "HLW-_WjYaCSx"
   },
   "outputs": [],
   "source": [
    "# notaste que había 2 establecimientos en la comuna 5, uno en Almagro y otro en Boedo\n",
    "# como en nuestro df DATA no podemos diferenciarlos, incluimos ambos a la referencia y la actualizamos\n",
    "ref.update({5 : 'ALMAGRO/BOEDO'})"
   ]
  },
  {
   "cell_type": "code",
   "execution_count": 30,
   "metadata": {
    "colab": {},
    "colab_type": "code",
    "id": "Meo0-SNemRc4"
   },
   "outputs": [
    {
     "data": {
      "text/plain": [
       "{2: 'RECOLETA',\n",
       " 5: 'ALMAGRO/BOEDO',\n",
       " 10: 'VILLA LURO',\n",
       " 11: 'VILLA DEVOTO',\n",
       " 12: 'COGHLAN',\n",
       " 13: 'COLEGIALES',\n",
       " 14: 'PALERMO'}"
      ]
     },
     "execution_count": 30,
     "metadata": {},
     "output_type": "execute_result"
    }
   ],
   "source": [
    "ref"
   ]
  },
  {
   "cell_type": "code",
   "execution_count": 31,
   "metadata": {
    "colab": {},
    "colab_type": "code",
    "id": "1IxF76SNwcIs"
   },
   "outputs": [
    {
     "data": {
      "text/plain": [
       "1487    COLEGIALES\n",
       "1488    COLEGIALES\n",
       "1489    COLEGIALES\n",
       "1490       PALERMO\n",
       "1491       PALERMO\n",
       "1492       PALERMO\n",
       "1493       PALERMO\n",
       "1494       PALERMO\n",
       "1495       PALERMO\n",
       "1496       PALERMO\n",
       "1497    VILLA LURO\n",
       "1498    VILLA LURO\n",
       "1499    VILLA LURO\n",
       "1500    VILLA LURO\n",
       "1501    VILLA LURO\n",
       "Name: COMUNA, dtype: object"
      ]
     },
     "execution_count": 31,
     "metadata": {},
     "output_type": "execute_result"
    }
   ],
   "source": [
    "# cuando al .map() le pasamos un diccionario cuyas claves generan equivalencias con los valores de cqada registro...\n",
    "# es posible etiquetar o renombrar el contenido de cada celda \n",
    "data['COMUNA'].map(ref)[-15:]"
   ]
  },
  {
   "cell_type": "code",
   "execution_count": 32,
   "metadata": {
    "colab": {},
    "colab_type": "code",
    "id": "wMafQOIMm0Cn"
   },
   "outputs": [],
   "source": [
    "# aquí guardamos ese reetiquetado en una nueva columna para no perder información\n",
    "data['COMUNA2'] = data['COMUNA'].map(ref)"
   ]
  },
  {
   "cell_type": "code",
   "execution_count": 33,
   "metadata": {
    "colab": {},
    "colab_type": "code",
    "id": "hl4T9mEQDY9R"
   },
   "outputs": [
    {
     "data": {
      "text/plain": [
       "Index(['NACIONALIDAD', 'SEXO', 'EDAD', 'CONSENTIMIENTO', 'CUALQUIER_ORGANO',\n",
       "       'CUALES_NO', 'TRASPLANTE', 'INVESTIGACION', 'COMUNA', 'COMUNA2'],\n",
       "      dtype='object')"
      ]
     },
     "execution_count": 33,
     "metadata": {},
     "output_type": "execute_result"
    }
   ],
   "source": [
    "data.columns"
   ]
  },
  {
   "cell_type": "code",
   "execution_count": 34,
   "metadata": {
    "colab": {},
    "colab_type": "code",
    "id": "3kEQcib_u2f1"
   },
   "outputs": [
    {
     "data": {
      "text/html": [
       "<div>\n",
       "<style scoped>\n",
       "    .dataframe tbody tr th:only-of-type {\n",
       "        vertical-align: middle;\n",
       "    }\n",
       "\n",
       "    .dataframe tbody tr th {\n",
       "        vertical-align: top;\n",
       "    }\n",
       "\n",
       "    .dataframe thead th {\n",
       "        text-align: right;\n",
       "    }\n",
       "</style>\n",
       "<table border=\"1\" class=\"dataframe\">\n",
       "  <thead>\n",
       "    <tr style=\"text-align: right;\">\n",
       "      <th></th>\n",
       "      <th></th>\n",
       "      <th>NACIONALIDAD</th>\n",
       "      <th>EDAD</th>\n",
       "      <th>CUALQUIER_ORGANO</th>\n",
       "      <th>CUALES_NO</th>\n",
       "      <th>TRASPLANTE</th>\n",
       "      <th>INVESTIGACION</th>\n",
       "      <th>COMUNA</th>\n",
       "      <th>COMUNA2</th>\n",
       "    </tr>\n",
       "    <tr>\n",
       "      <th>CONSENTIMIENTO</th>\n",
       "      <th>SEXO</th>\n",
       "      <th></th>\n",
       "      <th></th>\n",
       "      <th></th>\n",
       "      <th></th>\n",
       "      <th></th>\n",
       "      <th></th>\n",
       "      <th></th>\n",
       "      <th></th>\n",
       "    </tr>\n",
       "  </thead>\n",
       "  <tbody>\n",
       "    <tr>\n",
       "      <th rowspan=\"2\" valign=\"top\">NO</th>\n",
       "      <th>F</th>\n",
       "      <td>10</td>\n",
       "      <td>10</td>\n",
       "      <td>10</td>\n",
       "      <td>0</td>\n",
       "      <td>10</td>\n",
       "      <td>10</td>\n",
       "      <td>10</td>\n",
       "      <td>1</td>\n",
       "    </tr>\n",
       "    <tr>\n",
       "      <th>M</th>\n",
       "      <td>6</td>\n",
       "      <td>6</td>\n",
       "      <td>6</td>\n",
       "      <td>0</td>\n",
       "      <td>6</td>\n",
       "      <td>6</td>\n",
       "      <td>6</td>\n",
       "      <td>0</td>\n",
       "    </tr>\n",
       "    <tr>\n",
       "      <th rowspan=\"2\" valign=\"top\">SI</th>\n",
       "      <th>F</th>\n",
       "      <td>1062</td>\n",
       "      <td>1062</td>\n",
       "      <td>1062</td>\n",
       "      <td>8</td>\n",
       "      <td>1062</td>\n",
       "      <td>1062</td>\n",
       "      <td>1062</td>\n",
       "      <td>455</td>\n",
       "    </tr>\n",
       "    <tr>\n",
       "      <th>M</th>\n",
       "      <td>424</td>\n",
       "      <td>424</td>\n",
       "      <td>424</td>\n",
       "      <td>6</td>\n",
       "      <td>424</td>\n",
       "      <td>424</td>\n",
       "      <td>424</td>\n",
       "      <td>180</td>\n",
       "    </tr>\n",
       "  </tbody>\n",
       "</table>\n",
       "</div>"
      ],
      "text/plain": [
       "                     NACIONALIDAD  EDAD  CUALQUIER_ORGANO  CUALES_NO  \\\n",
       "CONSENTIMIENTO SEXO                                                    \n",
       "NO             F               10    10                10          0   \n",
       "               M                6     6                 6          0   \n",
       "SI             F             1062  1062              1062          8   \n",
       "               M              424   424               424          6   \n",
       "\n",
       "                     TRASPLANTE  INVESTIGACION  COMUNA  COMUNA2  \n",
       "CONSENTIMIENTO SEXO                                              \n",
       "NO             F             10             10      10        1  \n",
       "               M              6              6       6        0  \n",
       "SI             F           1062           1062    1062      455  \n",
       "               M            424            424     424      180  "
      ]
     },
     "execution_count": 34,
     "metadata": {},
     "output_type": "execute_result"
    }
   ],
   "source": [
    "x = data.groupby(['CONSENTIMIENTO','SEXO']).count()\n",
    "x"
   ]
  },
  {
   "cell_type": "code",
   "execution_count": 35,
   "metadata": {
    "colab": {},
    "colab_type": "code",
    "id": "6iyyS5l-DxmK"
   },
   "outputs": [
    {
     "name": "stdout",
     "output_type": "stream",
     "text": [
      "['F' 'M']\n",
      "['SI' 'NO']\n",
      "['SI' 'NO']\n"
     ]
    }
   ],
   "source": [
    "categoricas = ['SEXO', 'CONSENTIMIENTO', 'INVESTIGACION']\n",
    "\n",
    "# excluyo \n",
    "# NACIONALIDAD y COMUNA (quiero conservar sus etiquetas)\n",
    "# EDAD (ya numérica)\n",
    "# CUALES_NO (14 casos, detalle arriba)\n",
    "# CUALQUIER_ORGANO_SI (30 con NO)\n",
    "# TRASPLANTE (es redundante)\n",
    "\n",
    "for i in categoricas:\n",
    "  print(data[i].unique())"
   ]
  },
  {
   "cell_type": "code",
   "execution_count": 36,
   "metadata": {
    "colab": {},
    "colab_type": "code",
    "id": "xypogMAgEGCd"
   },
   "outputs": [],
   "source": [
    "# generamos un df de variables dummies (datos numéricos binarios) para facilitar algunos procedimientos \n",
    "dummies = pd.get_dummies(data[categoricas])"
   ]
  },
  {
   "cell_type": "code",
   "execution_count": 37,
   "metadata": {
    "colab": {},
    "colab_type": "code",
    "id": "LHfXk5GyEocR"
   },
   "outputs": [
    {
     "data": {
      "text/html": [
       "<div>\n",
       "<style scoped>\n",
       "    .dataframe tbody tr th:only-of-type {\n",
       "        vertical-align: middle;\n",
       "    }\n",
       "\n",
       "    .dataframe tbody tr th {\n",
       "        vertical-align: top;\n",
       "    }\n",
       "\n",
       "    .dataframe thead th {\n",
       "        text-align: right;\n",
       "    }\n",
       "</style>\n",
       "<table border=\"1\" class=\"dataframe\">\n",
       "  <thead>\n",
       "    <tr style=\"text-align: right;\">\n",
       "      <th></th>\n",
       "      <th>NACIONALIDAD</th>\n",
       "      <th>EDAD</th>\n",
       "      <th>COMUNA</th>\n",
       "      <th>COMUNA2</th>\n",
       "      <th>SEXO_F</th>\n",
       "      <th>CONSENTIMIENTO_SI</th>\n",
       "      <th>INVESTIGACION_SI</th>\n",
       "    </tr>\n",
       "  </thead>\n",
       "  <tbody>\n",
       "    <tr>\n",
       "      <th>0</th>\n",
       "      <td>ARGENTINA</td>\n",
       "      <td>40</td>\n",
       "      <td>2</td>\n",
       "      <td>RECOLETA</td>\n",
       "      <td>1</td>\n",
       "      <td>1</td>\n",
       "      <td>1</td>\n",
       "    </tr>\n",
       "    <tr>\n",
       "      <th>1</th>\n",
       "      <td>ARGENTINA</td>\n",
       "      <td>31</td>\n",
       "      <td>2</td>\n",
       "      <td>RECOLETA</td>\n",
       "      <td>0</td>\n",
       "      <td>1</td>\n",
       "      <td>0</td>\n",
       "    </tr>\n",
       "    <tr>\n",
       "      <th>2</th>\n",
       "      <td>ARGENTINA</td>\n",
       "      <td>41</td>\n",
       "      <td>2</td>\n",
       "      <td>RECOLETA</td>\n",
       "      <td>1</td>\n",
       "      <td>1</td>\n",
       "      <td>1</td>\n",
       "    </tr>\n",
       "    <tr>\n",
       "      <th>3</th>\n",
       "      <td>ARGENTINA</td>\n",
       "      <td>29</td>\n",
       "      <td>2</td>\n",
       "      <td>RECOLETA</td>\n",
       "      <td>0</td>\n",
       "      <td>1</td>\n",
       "      <td>0</td>\n",
       "    </tr>\n",
       "    <tr>\n",
       "      <th>4</th>\n",
       "      <td>ARGENTINA</td>\n",
       "      <td>26</td>\n",
       "      <td>2</td>\n",
       "      <td>RECOLETA</td>\n",
       "      <td>1</td>\n",
       "      <td>1</td>\n",
       "      <td>0</td>\n",
       "    </tr>\n",
       "  </tbody>\n",
       "</table>\n",
       "</div>"
      ],
      "text/plain": [
       "  NACIONALIDAD  EDAD  COMUNA   COMUNA2  SEXO_F  CONSENTIMIENTO_SI  \\\n",
       "0    ARGENTINA    40       2  RECOLETA       1                  1   \n",
       "1    ARGENTINA    31       2  RECOLETA       0                  1   \n",
       "2    ARGENTINA    41       2  RECOLETA       1                  1   \n",
       "3    ARGENTINA    29       2  RECOLETA       0                  1   \n",
       "4    ARGENTINA    26       2  RECOLETA       1                  1   \n",
       "\n",
       "   INVESTIGACION_SI  \n",
       "0                 1  \n",
       "1                 0  \n",
       "2                 1  \n",
       "3                 0  \n",
       "4                 0  "
      ]
     },
     "execution_count": 37,
     "metadata": {},
     "output_type": "execute_result"
    }
   ],
   "source": [
    "# armamos selecciones de las columnas que nos interesa conservar en un nuevo df, ya integrado\n",
    "data_seleccion = ['NACIONALIDAD', 'EDAD', 'COMUNA', 'COMUNA2']\n",
    "dummies_seleccion = ['SEXO_F', 'CONSENTIMIENTO_SI', 'INVESTIGACION_SI']\n",
    "\n",
    "#construimos el nuevo df, con partes de cada uno de los df existentes\n",
    "newdata = data[data_seleccion].join(dummies[dummies_seleccion])\n",
    "newdata.head()"
   ]
  },
  {
   "cell_type": "code",
   "execution_count": 38,
   "metadata": {
    "colab": {},
    "colab_type": "code",
    "id": "1b_ZB0rKy4H8"
   },
   "outputs": [
    {
     "data": {
      "text/plain": [
       "NaN              57.656458\n",
       "ALMAGRO/BOEDO     8.455393\n",
       "COLEGIALES        7.856192\n",
       "RECOLETA          6.058589\n",
       "COGHLAN           5.858855\n",
       "PALERMO           5.659121\n",
       "VILLA DEVOTO      4.860186\n",
       "VILLA LURO        3.595206\n",
       "Name: COMUNA2, dtype: float64"
      ]
     },
     "execution_count": 38,
     "metadata": {},
     "output_type": "execute_result"
    }
   ],
   "source": [
    "# chequeamos estructura de los datos por comuna\n",
    "newdata['COMUNA2'].value_counts(normalize=True, sort=True, ascending=False, dropna=False)*100"
   ]
  },
  {
   "cell_type": "markdown",
   "metadata": {
    "colab_type": "text",
    "id": "j1wonjB3u5hR"
   },
   "source": [
    "Habían notado que prácticamente la mitad de las comunas no estaba categorizada o carecía de establecimiento de referencia? \n",
    "\n",
    "De hecho, más de la mitad de la información al respecto no ha sido disponibilizada! \n",
    "\n",
    "\n",
    "### Desafío\n",
    "Una alternativa para resulver este tema es armar un diccionario propio para el parseo, completo. Podés recurrir al GCBA o a Wikipedia para armar una lista completa de las referencias por comuna { número : barrios afectados } y reescribir la columna 'COMUNA 2'. "
   ]
  },
  {
   "cell_type": "code",
   "execution_count": 39,
   "metadata": {
    "colab": {},
    "colab_type": "code",
    "id": "z0bslp-Lv8MS"
   },
   "outputs": [],
   "source": [
    "# cómo comenzarías?\n",
    "# armá el código a continuación!\n"
   ]
  },
  {
   "cell_type": "code",
   "execution_count": 46,
   "metadata": {
    "colab": {},
    "colab_type": "code",
    "id": "CVHMESqkVd1A"
   },
   "outputs": [
    {
     "data": {
      "image/png": "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\n",
      "text/plain": [
       "<Figure size 1015.92x900 with 30 Axes>"
      ]
     },
     "metadata": {},
     "output_type": "display_data"
    }
   ],
   "source": [
    "# hay una serie de gráficos que puede ser útil para identificar algunos agrupamientos y/o tendencias\n",
    "sns.pairplot(data=newdata, hue='CONSENTIMIENTO_SI', palette='husl');"
   ]
  },
  {
   "cell_type": "markdown",
   "metadata": {
    "colab_type": "text",
    "id": "tDnwp2WJwRYU"
   },
   "source": [
    "En este caso, es difícil por la conglomeración de dummies. De hechom muchos puntos se apilan en el mismo par ordenado. De ahí que nos conviene graficar las series con histograms o swarmplots. \n",
    "\n",
    "[Aquí](https://seaborn.pydata.org/generated/seaborn.pairplot.html) también podés ver algunos ejemplos de datos más funcionales para el pairplot."
   ]
  },
  {
   "cell_type": "code",
   "execution_count": 43,
   "metadata": {
    "colab": {},
    "colab_type": "code",
    "id": "R95PGjmRoc7S"
   },
   "outputs": [
    {
     "data": {
      "image/png": "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\n",
      "text/plain": [
       "<Figure size 432x288 with 1 Axes>"
      ]
     },
     "metadata": {},
     "output_type": "display_data"
    }
   ],
   "source": [
    "sns.set(style='whitegrid', font_scale=1)\n",
    "sns.swarmplot(y='EDAD', x='CONSENTIMIENTO_SI', data=newdata, color='b');"
   ]
  },
  {
   "cell_type": "code",
   "execution_count": 44,
   "metadata": {
    "colab": {},
    "colab_type": "code",
    "id": "Chcu1eIspC1P"
   },
   "outputs": [
    {
     "data": {
      "image/png": "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\n",
      "text/plain": [
       "<Figure size 432x288 with 1 Axes>"
      ]
     },
     "metadata": {},
     "output_type": "display_data"
    }
   ],
   "source": [
    "sns.swarmplot(y='EDAD', x='SEXO_F', data=newdata, color='c');"
   ]
  },
  {
   "cell_type": "code",
   "execution_count": null,
   "metadata": {
    "colab": {},
    "colab_type": "code",
    "id": "cuD6onAPxQpy"
   },
   "outputs": [],
   "source": []
  }
 ],
 "metadata": {
  "colab": {
   "name": "EDA_consentimiento_trasplantes.ipynb",
   "private_outputs": true,
   "provenance": [],
   "version": "0.3.2"
  },
  "kernelspec": {
   "display_name": "Python 3",
   "language": "python",
   "name": "python3"
  },
  "language_info": {
   "codemirror_mode": {
    "name": "ipython",
    "version": 3
   },
   "file_extension": ".py",
   "mimetype": "text/x-python",
   "name": "python",
   "nbconvert_exporter": "python",
   "pygments_lexer": "ipython3",
   "version": "3.7.1"
  }
 },
 "nbformat": 4,
 "nbformat_minor": 2
}
